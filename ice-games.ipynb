{
 "cells": [
  {
   "cell_type": "markdown",
   "metadata": {},
   "source": [
    "# **Proyecto Sprint 6:**"
   ]
  },
  {
   "cell_type": "markdown",
   "metadata": {},
   "source": [
    "Trabajas para la tienda online Ice que vende videojuegos por todo el mundo. Las reseñas de usuarios y expertos, los géneros, las plataformas (por ejemplo, Xbox o PlayStation) y los datos históricos sobre las ventas de juegos están disponibles en fuentes abiertas. Tienes que identificar patrones que determinen si un juego tiene éxito o no. Esto te permitirá detectar proyectos prometedores y planificar campañas publicitarias."
   ]
  },
  {
   "cell_type": "markdown",
   "metadata": {},
   "source": [
    "## **Inicialización:**"
   ]
  },
  {
   "cell_type": "markdown",
   "metadata": {},
   "source": [
    "### **Librerías**"
   ]
  },
  {
   "cell_type": "code",
   "execution_count": null,
   "metadata": {},
   "outputs": [],
   "source": [
    "# Cargando librerías:\n",
    "import pandas as pd\n",
    "import numpy as np\n",
    "from matplotlib import pyplot as plt\n",
    "#import seaborn as sns\n",
    "from scipy import stats"
   ]
  },
  {
   "cell_type": "markdown",
   "metadata": {},
   "source": [
    "### **Cargando DataFrame**"
   ]
  },
  {
   "cell_type": "code",
   "execution_count": 2,
   "metadata": {},
   "outputs": [],
   "source": [
    "# Cargando datos:\n",
    "games = pd.read_csv('datasets/games.csv')"
   ]
  },
  {
   "cell_type": "markdown",
   "metadata": {},
   "source": [
    "### **Vista previa de los datos**"
   ]
  },
  {
   "cell_type": "code",
   "execution_count": 3,
   "metadata": {},
   "outputs": [
    {
     "name": "stdout",
     "output_type": "stream",
     "text": [
      "<class 'pandas.core.frame.DataFrame'>\n",
      "RangeIndex: 16715 entries, 0 to 16714\n",
      "Data columns (total 11 columns):\n",
      " #   Column           Non-Null Count  Dtype  \n",
      "---  ------           --------------  -----  \n",
      " 0   Name             16713 non-null  object \n",
      " 1   Platform         16715 non-null  object \n",
      " 2   Year_of_Release  16446 non-null  float64\n",
      " 3   Genre            16713 non-null  object \n",
      " 4   NA_sales         16715 non-null  float64\n",
      " 5   EU_sales         16715 non-null  float64\n",
      " 6   JP_sales         16715 non-null  float64\n",
      " 7   Other_sales      16715 non-null  float64\n",
      " 8   Critic_Score     8137 non-null   float64\n",
      " 9   User_Score       10014 non-null  object \n",
      " 10  Rating           9949 non-null   object \n",
      "dtypes: float64(6), object(5)\n",
      "memory usage: 1.4+ MB\n"
     ]
    },
    {
     "data": {
      "text/html": [
       "<div>\n",
       "<style scoped>\n",
       "    .dataframe tbody tr th:only-of-type {\n",
       "        vertical-align: middle;\n",
       "    }\n",
       "\n",
       "    .dataframe tbody tr th {\n",
       "        vertical-align: top;\n",
       "    }\n",
       "\n",
       "    .dataframe thead th {\n",
       "        text-align: right;\n",
       "    }\n",
       "</style>\n",
       "<table border=\"1\" class=\"dataframe\">\n",
       "  <thead>\n",
       "    <tr style=\"text-align: right;\">\n",
       "      <th></th>\n",
       "      <th>Name</th>\n",
       "      <th>Platform</th>\n",
       "      <th>Year_of_Release</th>\n",
       "      <th>Genre</th>\n",
       "      <th>NA_sales</th>\n",
       "      <th>EU_sales</th>\n",
       "      <th>JP_sales</th>\n",
       "      <th>Other_sales</th>\n",
       "      <th>Critic_Score</th>\n",
       "      <th>User_Score</th>\n",
       "      <th>Rating</th>\n",
       "    </tr>\n",
       "  </thead>\n",
       "  <tbody>\n",
       "    <tr>\n",
       "      <th>4130</th>\n",
       "      <td>Alien Trilogy</td>\n",
       "      <td>PS</td>\n",
       "      <td>1996.0</td>\n",
       "      <td>Shooter</td>\n",
       "      <td>0.24</td>\n",
       "      <td>0.16</td>\n",
       "      <td>0.04</td>\n",
       "      <td>0.03</td>\n",
       "      <td>NaN</td>\n",
       "      <td>NaN</td>\n",
       "      <td>NaN</td>\n",
       "    </tr>\n",
       "    <tr>\n",
       "      <th>4999</th>\n",
       "      <td>Phoenix Wright: Ace Attorney - Dual Destinies</td>\n",
       "      <td>3DS</td>\n",
       "      <td>2013.0</td>\n",
       "      <td>Adventure</td>\n",
       "      <td>0.00</td>\n",
       "      <td>0.00</td>\n",
       "      <td>0.38</td>\n",
       "      <td>0.00</td>\n",
       "      <td>NaN</td>\n",
       "      <td>NaN</td>\n",
       "      <td>NaN</td>\n",
       "    </tr>\n",
       "    <tr>\n",
       "      <th>1564</th>\n",
       "      <td>WWE '12</td>\n",
       "      <td>X360</td>\n",
       "      <td>2011.0</td>\n",
       "      <td>Fighting</td>\n",
       "      <td>0.74</td>\n",
       "      <td>0.40</td>\n",
       "      <td>0.00</td>\n",
       "      <td>0.12</td>\n",
       "      <td>71.0</td>\n",
       "      <td>6.3</td>\n",
       "      <td>T</td>\n",
       "    </tr>\n",
       "    <tr>\n",
       "      <th>2829</th>\n",
       "      <td>Total War: Rome II</td>\n",
       "      <td>PC</td>\n",
       "      <td>2013.0</td>\n",
       "      <td>Strategy</td>\n",
       "      <td>0.12</td>\n",
       "      <td>0.53</td>\n",
       "      <td>0.00</td>\n",
       "      <td>0.07</td>\n",
       "      <td>76.0</td>\n",
       "      <td>4.2</td>\n",
       "      <td>T</td>\n",
       "    </tr>\n",
       "    <tr>\n",
       "      <th>9968</th>\n",
       "      <td>Armored Core: Verdict Day</td>\n",
       "      <td>PS3</td>\n",
       "      <td>2013.0</td>\n",
       "      <td>Simulation</td>\n",
       "      <td>0.00</td>\n",
       "      <td>0.00</td>\n",
       "      <td>0.12</td>\n",
       "      <td>0.00</td>\n",
       "      <td>66.0</td>\n",
       "      <td>7.4</td>\n",
       "      <td>T</td>\n",
       "    </tr>\n",
       "  </tbody>\n",
       "</table>\n",
       "</div>"
      ],
      "text/plain": [
       "                                               Name Platform  Year_of_Release  \\\n",
       "4130                                  Alien Trilogy       PS           1996.0   \n",
       "4999  Phoenix Wright: Ace Attorney - Dual Destinies      3DS           2013.0   \n",
       "1564                                        WWE '12     X360           2011.0   \n",
       "2829                             Total War: Rome II       PC           2013.0   \n",
       "9968                      Armored Core: Verdict Day      PS3           2013.0   \n",
       "\n",
       "           Genre  NA_sales  EU_sales  JP_sales  Other_sales  Critic_Score  \\\n",
       "4130     Shooter      0.24      0.16      0.04         0.03           NaN   \n",
       "4999   Adventure      0.00      0.00      0.38         0.00           NaN   \n",
       "1564    Fighting      0.74      0.40      0.00         0.12          71.0   \n",
       "2829    Strategy      0.12      0.53      0.00         0.07          76.0   \n",
       "9968  Simulation      0.00      0.00      0.12         0.00          66.0   \n",
       "\n",
       "     User_Score Rating  \n",
       "4130        NaN    NaN  \n",
       "4999        NaN    NaN  \n",
       "1564        6.3      T  \n",
       "2829        4.2      T  \n",
       "9968        7.4      T  "
      ]
     },
     "metadata": {},
     "output_type": "display_data"
    }
   ],
   "source": [
    "games.info()\n",
    "display(games.sample(5))"
   ]
  },
  {
   "cell_type": "markdown",
   "metadata": {},
   "source": [
    "### **Descripción inicial**"
   ]
  },
  {
   "cell_type": "markdown",
   "metadata": {},
   "source": [
    "***Estas son algunas observaciones acerca de los datos proporcionados, existen varios ajustes por hacer que se enlistan a continuación:***\n",
    "\n",
    "- *Existen valores ausentes en varias columnas.*\n",
    "\n",
    "- *Revisar la existencia de valores duplicados explícitos e implícitos.*\n",
    "\n",
    "- *Se debe unificar el formato de todas las columnas a `lower_case` para facilitar su uso y evitar errores.*\n",
    "\n",
    "- *La columna `Year_of_Release` es de tipo `float`, debe cambiarse a tipo `int` para un mejor manejo de estos datos.*\n",
    "\n",
    "- *La columna `User_Score` es de tipo `object`, debe cambiarse a tipo `float` para poder realizar operaciones y cálculos de forma correcta.*\n",
    "\n",
    "- *La columna `Critic_Score` es de tipo `float` pero todos los datos que incluye son enteros, por lo que se debe cambiar a tipo `int64` (O también se puede dividir entre 10 para que esté en el mismo orden de valores que la columna `User_Score` que va de 0-10).*"
   ]
  },
  {
   "cell_type": "markdown",
   "metadata": {},
   "source": [
    "## **Preparación de datos:**"
   ]
  },
  {
   "cell_type": "markdown",
   "metadata": {},
   "source": [
    "### **Nombres de columnas**"
   ]
  },
  {
   "cell_type": "code",
   "execution_count": 4,
   "metadata": {},
   "outputs": [],
   "source": [
    "# Reemplazando los nombres de las columnas (minúsculas)\n",
    "games.columns = games.columns.str.lower()"
   ]
  },
  {
   "cell_type": "markdown",
   "metadata": {},
   "source": [
    "### **Convertir datos**"
   ]
  },
  {
   "cell_type": "code",
   "execution_count": 5,
   "metadata": {},
   "outputs": [],
   "source": [
    "# Convirtiendo los datos de la columna \"year_of_release\" a int\n",
    "games[\"year_of_release\"] = games[\"year_of_release\"].astype(\"Int64\")\n",
    "\n",
    "# Convirtiendo los datos de la columna \"user_score\" a float\n",
    "    # Reemplazando 'tbd' por NaN\n",
    "games['user_score'] = games['user_score'].replace('tbd', np.nan)\n",
    "    # Convirtiendo los datos de la columna \"user_score\" a float\n",
    "games[\"user_score\"] = games[\"user_score\"].astype(\"Float64\")\n",
    "\n",
    "# Columna \"critic_score\"\n",
    "    # Dividiendo entre 10 para que se maneje de 0-10\n",
    "games['critic_score'] = games['critic_score'] / 10"
   ]
  },
  {
   "cell_type": "markdown",
   "metadata": {},
   "source": [
    "***Comentario:***\n",
    "\n",
    "- *La columna `Year_of_Release` se cambió a tipo int para optimizar el uso de la memoria y permitir comparaciones lógicas del tipo < ó >.*\n",
    "\n",
    "- *La columna `user_score` se cambió al tipo float para permitir operaciones aritméticas. Para esto, fue necesario sustituir los valores de \"tbd\" por NaN (que mas adelante serán trabajados).*"
   ]
  },
  {
   "cell_type": "markdown",
   "metadata": {},
   "source": [
    "### **Valores Ausentes**"
   ]
  },
  {
   "cell_type": "code",
   "execution_count": 6,
   "metadata": {},
   "outputs": [
    {
     "data": {
      "text/plain": [
       "name                  2\n",
       "platform              0\n",
       "year_of_release     269\n",
       "genre                 2\n",
       "na_sales              0\n",
       "eu_sales              0\n",
       "jp_sales              0\n",
       "other_sales           0\n",
       "critic_score       8578\n",
       "user_score         9125\n",
       "rating             6766\n",
       "dtype: int64"
      ]
     },
     "metadata": {},
     "output_type": "display_data"
    }
   ],
   "source": [
    "# Revisando valores ausentes en cada columna.\n",
    "display(games.isna().sum())"
   ]
  },
  {
   "cell_type": "markdown",
   "metadata": {},
   "source": [
    "####  **Columnas \"name\" y \"genre\"**"
   ]
  },
  {
   "cell_type": "code",
   "execution_count": 7,
   "metadata": {},
   "outputs": [
    {
     "data": {
      "text/html": [
       "<div>\n",
       "<style scoped>\n",
       "    .dataframe tbody tr th:only-of-type {\n",
       "        vertical-align: middle;\n",
       "    }\n",
       "\n",
       "    .dataframe tbody tr th {\n",
       "        vertical-align: top;\n",
       "    }\n",
       "\n",
       "    .dataframe thead th {\n",
       "        text-align: right;\n",
       "    }\n",
       "</style>\n",
       "<table border=\"1\" class=\"dataframe\">\n",
       "  <thead>\n",
       "    <tr style=\"text-align: right;\">\n",
       "      <th></th>\n",
       "      <th>name</th>\n",
       "      <th>platform</th>\n",
       "      <th>year_of_release</th>\n",
       "      <th>genre</th>\n",
       "      <th>na_sales</th>\n",
       "      <th>eu_sales</th>\n",
       "      <th>jp_sales</th>\n",
       "      <th>other_sales</th>\n",
       "      <th>critic_score</th>\n",
       "      <th>user_score</th>\n",
       "      <th>rating</th>\n",
       "    </tr>\n",
       "  </thead>\n",
       "  <tbody>\n",
       "    <tr>\n",
       "      <th>659</th>\n",
       "      <td>NaN</td>\n",
       "      <td>GEN</td>\n",
       "      <td>1993</td>\n",
       "      <td>NaN</td>\n",
       "      <td>1.78</td>\n",
       "      <td>0.53</td>\n",
       "      <td>0.00</td>\n",
       "      <td>0.08</td>\n",
       "      <td>NaN</td>\n",
       "      <td>&lt;NA&gt;</td>\n",
       "      <td>NaN</td>\n",
       "    </tr>\n",
       "    <tr>\n",
       "      <th>14244</th>\n",
       "      <td>NaN</td>\n",
       "      <td>GEN</td>\n",
       "      <td>1993</td>\n",
       "      <td>NaN</td>\n",
       "      <td>0.00</td>\n",
       "      <td>0.00</td>\n",
       "      <td>0.03</td>\n",
       "      <td>0.00</td>\n",
       "      <td>NaN</td>\n",
       "      <td>&lt;NA&gt;</td>\n",
       "      <td>NaN</td>\n",
       "    </tr>\n",
       "  </tbody>\n",
       "</table>\n",
       "</div>"
      ],
      "text/plain": [
       "      name platform  year_of_release genre  na_sales  eu_sales  jp_sales  \\\n",
       "659    NaN      GEN             1993   NaN      1.78      0.53      0.00   \n",
       "14244  NaN      GEN             1993   NaN      0.00      0.00      0.03   \n",
       "\n",
       "       other_sales  critic_score  user_score rating  \n",
       "659           0.08           NaN        <NA>    NaN  \n",
       "14244         0.00           NaN        <NA>    NaN  "
      ]
     },
     "execution_count": 7,
     "metadata": {},
     "output_type": "execute_result"
    }
   ],
   "source": [
    "# Valores ausentes en columna \"name\"\n",
    "games[games['name'].isna()]\n",
    "#games.query('platform == \"GEN\"')"
   ]
  },
  {
   "cell_type": "code",
   "execution_count": 8,
   "metadata": {},
   "outputs": [
    {
     "data": {
      "text/html": [
       "<div>\n",
       "<style scoped>\n",
       "    .dataframe tbody tr th:only-of-type {\n",
       "        vertical-align: middle;\n",
       "    }\n",
       "\n",
       "    .dataframe tbody tr th {\n",
       "        vertical-align: top;\n",
       "    }\n",
       "\n",
       "    .dataframe thead th {\n",
       "        text-align: right;\n",
       "    }\n",
       "</style>\n",
       "<table border=\"1\" class=\"dataframe\">\n",
       "  <thead>\n",
       "    <tr style=\"text-align: right;\">\n",
       "      <th></th>\n",
       "      <th>name</th>\n",
       "      <th>platform</th>\n",
       "      <th>year_of_release</th>\n",
       "      <th>genre</th>\n",
       "      <th>na_sales</th>\n",
       "      <th>eu_sales</th>\n",
       "      <th>jp_sales</th>\n",
       "      <th>other_sales</th>\n",
       "      <th>critic_score</th>\n",
       "      <th>user_score</th>\n",
       "      <th>rating</th>\n",
       "    </tr>\n",
       "  </thead>\n",
       "  <tbody>\n",
       "    <tr>\n",
       "      <th>659</th>\n",
       "      <td>NaN</td>\n",
       "      <td>GEN</td>\n",
       "      <td>1993</td>\n",
       "      <td>NaN</td>\n",
       "      <td>1.78</td>\n",
       "      <td>0.53</td>\n",
       "      <td>0.00</td>\n",
       "      <td>0.08</td>\n",
       "      <td>NaN</td>\n",
       "      <td>&lt;NA&gt;</td>\n",
       "      <td>NaN</td>\n",
       "    </tr>\n",
       "    <tr>\n",
       "      <th>14244</th>\n",
       "      <td>NaN</td>\n",
       "      <td>GEN</td>\n",
       "      <td>1993</td>\n",
       "      <td>NaN</td>\n",
       "      <td>0.00</td>\n",
       "      <td>0.00</td>\n",
       "      <td>0.03</td>\n",
       "      <td>0.00</td>\n",
       "      <td>NaN</td>\n",
       "      <td>&lt;NA&gt;</td>\n",
       "      <td>NaN</td>\n",
       "    </tr>\n",
       "  </tbody>\n",
       "</table>\n",
       "</div>"
      ],
      "text/plain": [
       "      name platform  year_of_release genre  na_sales  eu_sales  jp_sales  \\\n",
       "659    NaN      GEN             1993   NaN      1.78      0.53      0.00   \n",
       "14244  NaN      GEN             1993   NaN      0.00      0.00      0.03   \n",
       "\n",
       "       other_sales  critic_score  user_score rating  \n",
       "659           0.08           NaN        <NA>    NaN  \n",
       "14244         0.00           NaN        <NA>    NaN  "
      ]
     },
     "execution_count": 8,
     "metadata": {},
     "output_type": "execute_result"
    }
   ],
   "source": [
    "# Valores ausentes en columna \"genre\"\n",
    "games[games['genre'].isna()]"
   ]
  },
  {
   "cell_type": "markdown",
   "metadata": {},
   "source": [
    "***Comentario:***\n",
    "\n",
    "*Se observa que los valores ausentes de las columnas `name` y `genre` coinciden en 2 registros. Ademas, estos dos registros coinciden en `platform` y  `year_of_release`. Probablemente se trate del mismo juego y por lo tanto eliminaré ambos registros ya que no ofrecen mucha información y su ausencia no afectará nuestro análisis.*"
   ]
  },
  {
   "cell_type": "code",
   "execution_count": 9,
   "metadata": {},
   "outputs": [],
   "source": [
    "# Manejo de NaN en columnas \"name\" y \"genre\"\n",
    "    # Eliminando registros que tienen datos nulos en \"name\" y \"genre\"\n",
    "games.dropna(subset=['name', 'genre'], inplace=True)"
   ]
  },
  {
   "cell_type": "markdown",
   "metadata": {},
   "source": [
    "#### **Columna \"year_of_release\"**"
   ]
  },
  {
   "cell_type": "markdown",
   "metadata": {},
   "source": [
    "***Comentario:***\n",
    "\n",
    "*Se observa que existen 269 datos ausentes para la columna `year_of_release` pero en algunos casos, el año de lanzamiento se puede inferir a partir de el nombre del videojuego en la columna `name`.*"
   ]
  },
  {
   "cell_type": "code",
   "execution_count": 10,
   "metadata": {},
   "outputs": [],
   "source": [
    "# Manejo de datos ausentes en la columna \"year_of_release\"    \n",
    "    # Extrayendo los años de lanzamiento a partir de la columna \"name\"\n",
    "games['inferred_year'] = games['name'].str.extract(r'(\\d{4})').astype(float)\n",
    "    # Restando uno (1) a cada valor extraido.\n",
    "games['inferred_year'] = games['inferred_year'] - 1\n",
    "    # Asignando los valores obtenidos a la columna \"year_of_release\"\n",
    "games['year_of_release'] = games['year_of_release'].fillna(games['inferred_year'])\n",
    "    # Eliminando la columna auxiliar \"inferred_year\"\n",
    "games.drop(columns='inferred_year', inplace=True)"
   ]
  },
  {
   "cell_type": "markdown",
   "metadata": {},
   "source": [
    "***Comentario:***\n",
    "\n",
    "*Después de inferir algunos de los años de lanzamiento a partir del nombre, el numero de datos ausentes ahora es de 252.*\n",
    "\n",
    "*Además, es posible inferir el año de lanzamiento de un juego basándose en la fecha en que fue publicado en otras plataformas. Sin embargo, esto no siempre es preciso, ya que un mismo título puede salir en años distintos dependiendo de la plataforma. Por lo tanto, asignar un año de lanzamiento únicamente tomando como referencia otra plataforma puede llevar a errores.*\n",
    "\n",
    "*Para terminar, los datos que aun siguen ausentes serán sustituídos por el número 0. De esta forma la información de ventas seguirá siendo útil para hacer cálculos en relación con las columna de `genre` o `platform`.*"
   ]
  },
  {
   "cell_type": "code",
   "execution_count": 11,
   "metadata": {},
   "outputs": [],
   "source": [
    "games['year_of_release'] = games['year_of_release'].fillna(0)"
   ]
  },
  {
   "cell_type": "markdown",
   "metadata": {},
   "source": [
    "#### **Columna \"critic_score\"**"
   ]
  },
  {
   "cell_type": "markdown",
   "metadata": {},
   "source": [
    "*Existen ahora 8576 datos ausentes en la columna `critic_score`, que representan mas de la mitad de los datos. Se requiere realizar un análisis en busqueda de algun patrón que pueda explicar esta situación.*"
   ]
  },
  {
   "cell_type": "code",
   "execution_count": 12,
   "metadata": {},
   "outputs": [
    {
     "name": "stdout",
     "output_type": "stream",
     "text": [
      "platform\n",
      "DS      1434\n",
      "PS       997\n",
      "PS2      863\n",
      "PSP      747\n",
      "Wii      735\n",
      "PS3      511\n",
      "GBA      384\n",
      "3DS      352\n",
      "X360     346\n",
      "N64      319\n",
      "Name: count, dtype: int64\n",
      "year_of_release\n",
      "2009    775\n",
      "2010    755\n",
      "2008    713\n",
      "2011    636\n",
      "2007    506\n",
      "2006    387\n",
      "2015    381\n",
      "1998    351\n",
      "2012    332\n",
      "2014    320\n",
      "Name: count, dtype: Int64\n",
      "genre\n",
      "Action          1479\n",
      "Misc            1227\n",
      "Sports          1154\n",
      "Adventure        980\n",
      "Role-Playing     761\n",
      "Simulation       521\n",
      "Racing           507\n",
      "Fighting         440\n",
      "Platform         391\n",
      "Strategy         381\n",
      "Name: count, dtype: int64\n"
     ]
    }
   ],
   "source": [
    "print(games[games['critic_score'].isna()]['platform'].value_counts().head(10))\n",
    "print(games[games['critic_score'].isna()]['year_of_release'].value_counts().head(10))\n",
    "print(games[games['critic_score'].isna()]['genre'].value_counts().head(10))"
   ]
  },
  {
   "cell_type": "markdown",
   "metadata": {},
   "source": [
    "***Comentario:***\n",
    "\n",
    "*Se observa que la plataforma 'DS' presenta la mayor cantidad de datos ausentes. Del mismo modo, se observa que la mayor cantidad de datos asentes se concentra en los años de 2006-2011. Parece ser que durante esos años no se realizaron muchas reseñas por parte de la crítica.*\n",
    "\n",
    "*Considero que una buena solucion es asignar el valor de la mediana de acuerdo al genero que pertenece.*"
   ]
  },
  {
   "cell_type": "code",
   "execution_count": 13,
   "metadata": {},
   "outputs": [
    {
     "name": "stdout",
     "output_type": "stream",
     "text": [
      "Valores ausentes en \"critic_score\": 0\n"
     ]
    }
   ],
   "source": [
    "# Valores ausentes en columna \"critic_score\".\n",
    "    # Creando series que contenga la mediana de la \"critic_score\" para cada género\n",
    "critic_score_genre_median = games.groupby(by='genre')[\"critic_score\"].median()\n",
    "    # Sustituyendo cada valor ausente en la columna por la mediana de acuerdo a su género.\n",
    "games[\"critic_score\"] = games[\"critic_score\"].fillna(games['genre'].map(critic_score_genre_median))\n",
    "print('Valores ausentes en \"critic_score\":', games[\"critic_score\"].isna().sum())"
   ]
  },
  {
   "cell_type": "markdown",
   "metadata": {},
   "source": [
    "***Comentario:***\n",
    "\n",
    "*De esta forma sustituímos todos los valores ausentes en la columna `critic_score`.*"
   ]
  },
  {
   "cell_type": "markdown",
   "metadata": {},
   "source": [
    "#### **Columna \"user_score\"**"
   ]
  },
  {
   "cell_type": "markdown",
   "metadata": {},
   "source": [
    "Existen ahora 9123 datos ausentes en la columna `user_score`. Se requiere realizar un análisis en busqueda de algun patrón que pueda explicar esta situación."
   ]
  },
  {
   "cell_type": "code",
   "execution_count": 14,
   "metadata": {},
   "outputs": [
    {
     "name": "stdout",
     "output_type": "stream",
     "text": [
      "platform\n",
      "DS     1635\n",
      "PS     1035\n",
      "PS2     920\n",
      "PSP     788\n",
      "Wii     760\n",
      "Name: count, dtype: int64\n",
      "year_of_release\n",
      "2009    812\n",
      "2010    788\n",
      "2008    767\n",
      "2011    635\n",
      "2007    570\n",
      "Name: count, dtype: Int64\n",
      "genre\n",
      "Action          1539\n",
      "Misc            1311\n",
      "Sports          1245\n",
      "Adventure       1003\n",
      "Role-Playing     755\n",
      "Name: count, dtype: int64\n"
     ]
    }
   ],
   "source": [
    "print(games.query(\"user_score.isna()\")['platform'].value_counts().head(5))\n",
    "print(games.query(\"user_score.isna()\")['year_of_release'].value_counts().head(5))\n",
    "print(games.query(\"user_score.isna()\")['genre'].value_counts().head(5))"
   ]
  },
  {
   "cell_type": "markdown",
   "metadata": {},
   "source": [
    "***Comentario:***\n",
    "\n",
    "*Nuevamente se observa que los años de 2007-2011 son en los que mas reseñas hacen falta, esta vez las calificaciones de los usuarios. Considero que una buena solucion es asignar el valor de la mediana de acuerdo al genero que pertenece.*"
   ]
  },
  {
   "cell_type": "code",
   "execution_count": 15,
   "metadata": {},
   "outputs": [
    {
     "name": "stdout",
     "output_type": "stream",
     "text": [
      "Valores ausentes en \"user_score\": 0\n"
     ]
    }
   ],
   "source": [
    "# Valores ausentes en columna user_score\".\n",
    "    # Creando series que contenga la mediana de la \"user_score\" para cada género\n",
    "user_score_genre_median = games.groupby('genre')['user_score'].median()\n",
    "    # Sustituyendo cada valor ausente en la columna por la mediana de acuerdo a su género.\n",
    "games['user_score'] = games['user_score'].fillna(games['genre'].map(user_score_genre_median))\n",
    "print('Valores ausentes en \"user_score\":', games[\"user_score\"].isna().sum())"
   ]
  },
  {
   "cell_type": "markdown",
   "metadata": {},
   "source": [
    "***Comentario:***\n",
    "\n",
    "*De esta forma sustituímos todos los valores ausentes en la columna `user_score`.*"
   ]
  },
  {
   "cell_type": "markdown",
   "metadata": {},
   "source": [
    "#### **Columna \"rating\"**"
   ]
  },
  {
   "cell_type": "markdown",
   "metadata": {},
   "source": [
    "*Existen ahora 6766 valores ausentes en la columna `rating`. Se trata de una columna tipo `object` en la que se asigna una categoría a cada videojuego, por lo que los valores ausentes serán sustituídos por el string \"tbd\".*"
   ]
  },
  {
   "cell_type": "code",
   "execution_count": 16,
   "metadata": {},
   "outputs": [],
   "source": [
    "games['rating'] = games['rating'].fillna('tbd')"
   ]
  },
  {
   "cell_type": "markdown",
   "metadata": {},
   "source": [
    "### **Valores duplicados**"
   ]
  },
  {
   "cell_type": "code",
   "execution_count": 17,
   "metadata": {},
   "outputs": [
    {
     "name": "stdout",
     "output_type": "stream",
     "text": [
      "Número de registros duplicados: 0\n"
     ]
    }
   ],
   "source": [
    "print('Número de registros duplicados:', games.duplicated().sum())"
   ]
  },
  {
   "cell_type": "markdown",
   "metadata": {},
   "source": [
    "### **Calculo ventas totales**"
   ]
  },
  {
   "cell_type": "code",
   "execution_count": 18,
   "metadata": {},
   "outputs": [],
   "source": [
    "# Calculando las ventas totales para cada juego\n",
    "games['total_sales'] = games[['na_sales', 'eu_sales', 'jp_sales', 'other_sales']].sum(axis=1)"
   ]
  },
  {
   "cell_type": "markdown",
   "metadata": {},
   "source": [
    "## **Análisis de datos:**"
   ]
  },
  {
   "cell_type": "markdown",
   "metadata": {},
   "source": [
    "### **¿Cuántos juegos fueron lanzados en diferentes años?**"
   ]
  },
  {
   "cell_type": "code",
   "execution_count": 19,
   "metadata": {},
   "outputs": [
    {
     "data": {
      "image/png": "[encoded data removed]",
      "text/plain": [
       "<Figure size 1200x500 with 1 Axes>"
      ]
     },
     "metadata": {},
     "output_type": "display_data"
    }
   ],
   "source": [
    "# Agrupando por año para contar el número de videojuegos lanzados cada año\n",
    "games_released_by_year = games.query('year_of_release != 0').groupby('year_of_release')['name'].count()\n",
    "# Graficando\n",
    "games_released_by_year.plot(kind='bar',\n",
    "                            title='JUEGOS LANZADOS AÑO CON AÑO (1980 - 2016)', \n",
    "                            xlabel='Año de lanzamiento',\n",
    "                            ylabel='Número de juegos lanzados',\n",
    "                            figsize=(12,5))\n",
    "\n",
    "plt.show()"
   ]
  },
  {
   "cell_type": "markdown",
   "metadata": {},
   "source": [
    "**¿Son significativos los datos de cada período?**\n",
    "\n",
    "*Se observa que el desarrollo de videojuegos comenzó un incremento significativo a mediados de la década de los 90's. Teniendo su crecimiento mas grande entre el 2005 y el 2011, donde el año en el que mas videojuegos fueron lanzados fue 2008. Después de esto, se observa que el ritmo bajó drasticamente.*"
   ]
  },
  {
   "cell_type": "markdown",
   "metadata": {},
   "source": [
    "### **Observa cómo varían las ventas de una plataforma a otra. Elige las plataformas con las mayores ventas totales y construye una distribución  basada en los datos de cada año. Busca las plataformas que solían ser populares pero que ahora no tienen ventas.**"
   ]
  },
  {
   "cell_type": "code",
   "execution_count": 20,
   "metadata": {},
   "outputs": [
    {
     "name": "stderr",
     "output_type": "stream",
     "text": [
      "C:\\Users\\edgar\\AppData\\Local\\Temp\\ipykernel_6524\\3634219694.py:17: UserWarning: Boolean Series key will be reindexed to match DataFrame index.\n",
      "  top10_platforms_historic_sales = (games\n"
     ]
    },
    {
     "data": {
      "image/png": "[encoded data removed]",
      "text/plain": [
       "<Figure size 1500x600 with 1 Axes>"
      ]
     },
     "metadata": {},
     "output_type": "display_data"
    }
   ],
   "source": [
    "# Determinando las plataformas con las mayores ventas totales\n",
    "    # Agrupando ventas por plataforma y ordenando para ubicar las plataformas con mas ventas históricas\n",
    "platforms_sales = (games\n",
    "                   #.query('year_of_release != 0')\n",
    "                   .groupby('platform')[\n",
    "                       ['na_sales', 'eu_sales', 'jp_sales', 'other_sales', 'total_sales']\n",
    "                       ]\n",
    "                   .sum().sort_values(by='total_sales', ascending=False)\n",
    "                   )\n",
    "    # Obteniendo lista con los nombres de las top 10 plataformas.\n",
    "\n",
    "top10_platforms = platforms_sales.head(10)\n",
    "top10_platforms_list = top10_platforms.index\n",
    "\n",
    "# Distribución basada en los datos de cada año\n",
    "    # Agrupando por año y plataforma unicamente las 10 plataformas con mas ventas históricas\n",
    "top10_platforms_historic_sales = (games\n",
    "                                  .query('year_of_release != 0')\n",
    "                                  [games['platform'].isin(top10_platforms_list)]\n",
    "                                  .groupby(['year_of_release', 'platform'])['total_sales']\n",
    "                                  .sum().reset_index()\n",
    "                                  )\n",
    "    # Creando una pivot table\n",
    "top10_platforms_historic_sales = (top10_platforms_historic_sales\n",
    "                                  .query('year_of_release >= 1994')\n",
    "                                  .pivot_table(values='total_sales',index='year_of_release',columns='platform',aggfunc='sum')\n",
    "                                  .fillna(0))\n",
    "\n",
    "#display(top10_platforms_historic_sales)\n",
    "    # Graficando\n",
    "top10_platforms_historic_sales.plot(title='VENTAS ANUALES TOP 10 PLATAFORMAS',\n",
    "                                    ylabel='Millones de dolares (USD)', \n",
    "                                    xticks=top10_platforms_historic_sales.groupby('year_of_release').sum().index,\n",
    "                                    xlabel='Año',  \n",
    "                                    figsize=(15,6), \n",
    "                                    grid=True,\n",
    "                                    xlim=(1994, 2016),\n",
    "                                    marker = 'o')\n",
    "\n",
    "plt.legend(title='Plataformas', loc='upper left', fontsize= 'medium')\n",
    "plt.show()"
   ]
  },
  {
   "cell_type": "markdown",
   "metadata": {},
   "source": [
    "**¿Cuánto tardan generalmente las nuevas plataformas en aparecer y las antiguas en desaparecer?**\n",
    "\n",
    "*A partir del gráfico es posible afirmar que, considerando las 10 plataformas con mayores ventas totales, varias de las plataformas como PS, PS2 y Wii, tuvieron su época siendo las mas populares del momento, la gráfica nos muestra como, en su mayoría, las ventas de las plataformas de videojuegos tienen una distribución normal.*\n",
    "\n",
    "*Además, se aprecia que las nuevas consolas suelen tardar alrededor de cuatro años en alcanzar su pico de ventas, para luego disminuir gradualmente durante los siguientes cuatro años.*"
   ]
  },
  {
   "cell_type": "markdown",
   "metadata": {},
   "source": [
    "### **Determina para qué período debes tomar datos. Para hacerlo mira tus respuestas a las preguntas anteriores. Los datos deberían permitirte construir un modelo para 2017.**\n",
    "\n",
    "*El verdadero crecimiento en el desarrollo y lanzamiento de nuevos videojuegos comenzó en 1994. A partir de ese año, la cantidad de títulos lanzados fue en aumento, alcanzando un pico en 2008. En los años posteriores, se observa una tendencia a la baja en el número de lanzamientos. Por esta razón, considero que el periodo de 1994 a 2016 es el más representativo.*"
   ]
  },
  {
   "cell_type": "markdown",
   "metadata": {},
   "source": [
    "### **¿Qué plataformas son líderes en ventas? ¿Cuáles crecen y cuáles se reducen?**"
   ]
  },
  {
   "cell_type": "code",
   "execution_count": 21,
   "metadata": {},
   "outputs": [
    {
     "data": {
      "text/html": [
       "<div>\n",
       "<style scoped>\n",
       "    .dataframe tbody tr th:only-of-type {\n",
       "        vertical-align: middle;\n",
       "    }\n",
       "\n",
       "    .dataframe tbody tr th {\n",
       "        vertical-align: top;\n",
       "    }\n",
       "\n",
       "    .dataframe thead th {\n",
       "        text-align: right;\n",
       "    }\n",
       "</style>\n",
       "<table border=\"1\" class=\"dataframe\">\n",
       "  <thead>\n",
       "    <tr style=\"text-align: right;\">\n",
       "      <th>platform</th>\n",
       "      <th>DS</th>\n",
       "      <th>GBA</th>\n",
       "      <th>PC</th>\n",
       "      <th>PS</th>\n",
       "      <th>PS2</th>\n",
       "      <th>PS3</th>\n",
       "      <th>PS4</th>\n",
       "      <th>PSP</th>\n",
       "      <th>Wii</th>\n",
       "      <th>X360</th>\n",
       "    </tr>\n",
       "    <tr>\n",
       "      <th>year_of_release</th>\n",
       "      <th></th>\n",
       "      <th></th>\n",
       "      <th></th>\n",
       "      <th></th>\n",
       "      <th></th>\n",
       "      <th></th>\n",
       "      <th></th>\n",
       "      <th></th>\n",
       "      <th></th>\n",
       "      <th></th>\n",
       "    </tr>\n",
       "  </thead>\n",
       "  <tbody>\n",
       "    <tr>\n",
       "      <th>1994</th>\n",
       "      <td>0.00</td>\n",
       "      <td>0.00</td>\n",
       "      <td>12.87</td>\n",
       "      <td>6.03</td>\n",
       "      <td>0.00</td>\n",
       "      <td>0.00</td>\n",
       "      <td>0.00</td>\n",
       "      <td>0.00</td>\n",
       "      <td>0.00</td>\n",
       "      <td>0.00</td>\n",
       "    </tr>\n",
       "    <tr>\n",
       "      <th>1995</th>\n",
       "      <td>0.00</td>\n",
       "      <td>0.00</td>\n",
       "      <td>4.22</td>\n",
       "      <td>35.96</td>\n",
       "      <td>0.00</td>\n",
       "      <td>0.00</td>\n",
       "      <td>0.00</td>\n",
       "      <td>0.00</td>\n",
       "      <td>0.00</td>\n",
       "      <td>0.00</td>\n",
       "    </tr>\n",
       "    <tr>\n",
       "      <th>1996</th>\n",
       "      <td>0.00</td>\n",
       "      <td>0.00</td>\n",
       "      <td>10.58</td>\n",
       "      <td>94.70</td>\n",
       "      <td>0.00</td>\n",
       "      <td>0.00</td>\n",
       "      <td>0.00</td>\n",
       "      <td>0.00</td>\n",
       "      <td>0.00</td>\n",
       "      <td>0.00</td>\n",
       "    </tr>\n",
       "    <tr>\n",
       "      <th>1997</th>\n",
       "      <td>0.00</td>\n",
       "      <td>0.00</td>\n",
       "      <td>11.27</td>\n",
       "      <td>136.17</td>\n",
       "      <td>0.00</td>\n",
       "      <td>0.00</td>\n",
       "      <td>0.00</td>\n",
       "      <td>0.00</td>\n",
       "      <td>0.00</td>\n",
       "      <td>0.00</td>\n",
       "    </tr>\n",
       "    <tr>\n",
       "      <th>1998</th>\n",
       "      <td>0.00</td>\n",
       "      <td>0.00</td>\n",
       "      <td>3.26</td>\n",
       "      <td>169.49</td>\n",
       "      <td>0.00</td>\n",
       "      <td>0.00</td>\n",
       "      <td>0.00</td>\n",
       "      <td>0.00</td>\n",
       "      <td>0.00</td>\n",
       "      <td>0.00</td>\n",
       "    </tr>\n",
       "    <tr>\n",
       "      <th>1999</th>\n",
       "      <td>0.00</td>\n",
       "      <td>0.00</td>\n",
       "      <td>4.74</td>\n",
       "      <td>144.53</td>\n",
       "      <td>0.00</td>\n",
       "      <td>0.00</td>\n",
       "      <td>0.00</td>\n",
       "      <td>0.00</td>\n",
       "      <td>0.00</td>\n",
       "      <td>0.00</td>\n",
       "    </tr>\n",
       "    <tr>\n",
       "      <th>2000</th>\n",
       "      <td>0.00</td>\n",
       "      <td>0.07</td>\n",
       "      <td>4.66</td>\n",
       "      <td>96.37</td>\n",
       "      <td>39.17</td>\n",
       "      <td>0.00</td>\n",
       "      <td>0.00</td>\n",
       "      <td>0.00</td>\n",
       "      <td>0.00</td>\n",
       "      <td>0.00</td>\n",
       "    </tr>\n",
       "    <tr>\n",
       "      <th>2001</th>\n",
       "      <td>0.00</td>\n",
       "      <td>61.53</td>\n",
       "      <td>5.47</td>\n",
       "      <td>35.59</td>\n",
       "      <td>166.43</td>\n",
       "      <td>0.00</td>\n",
       "      <td>0.00</td>\n",
       "      <td>0.00</td>\n",
       "      <td>0.00</td>\n",
       "      <td>0.00</td>\n",
       "    </tr>\n",
       "    <tr>\n",
       "      <th>2002</th>\n",
       "      <td>0.00</td>\n",
       "      <td>74.16</td>\n",
       "      <td>8.57</td>\n",
       "      <td>6.67</td>\n",
       "      <td>207.00</td>\n",
       "      <td>0.00</td>\n",
       "      <td>0.00</td>\n",
       "      <td>0.00</td>\n",
       "      <td>0.00</td>\n",
       "      <td>0.00</td>\n",
       "    </tr>\n",
       "    <tr>\n",
       "      <th>2003</th>\n",
       "      <td>0.00</td>\n",
       "      <td>56.67</td>\n",
       "      <td>8.84</td>\n",
       "      <td>2.07</td>\n",
       "      <td>193.05</td>\n",
       "      <td>0.00</td>\n",
       "      <td>0.00</td>\n",
       "      <td>0.00</td>\n",
       "      <td>0.00</td>\n",
       "      <td>0.00</td>\n",
       "    </tr>\n",
       "    <tr>\n",
       "      <th>2004</th>\n",
       "      <td>17.27</td>\n",
       "      <td>77.91</td>\n",
       "      <td>10.39</td>\n",
       "      <td>0.00</td>\n",
       "      <td>212.13</td>\n",
       "      <td>0.00</td>\n",
       "      <td>0.00</td>\n",
       "      <td>7.06</td>\n",
       "      <td>0.00</td>\n",
       "      <td>0.00</td>\n",
       "    </tr>\n",
       "    <tr>\n",
       "      <th>2005</th>\n",
       "      <td>130.14</td>\n",
       "      <td>33.86</td>\n",
       "      <td>4.37</td>\n",
       "      <td>0.00</td>\n",
       "      <td>163.70</td>\n",
       "      <td>0.00</td>\n",
       "      <td>0.00</td>\n",
       "      <td>43.84</td>\n",
       "      <td>0.00</td>\n",
       "      <td>8.25</td>\n",
       "    </tr>\n",
       "    <tr>\n",
       "      <th>2006</th>\n",
       "      <td>119.81</td>\n",
       "      <td>5.28</td>\n",
       "      <td>2.85</td>\n",
       "      <td>0.00</td>\n",
       "      <td>103.42</td>\n",
       "      <td>20.96</td>\n",
       "      <td>0.00</td>\n",
       "      <td>55.32</td>\n",
       "      <td>137.15</td>\n",
       "      <td>51.63</td>\n",
       "    </tr>\n",
       "    <tr>\n",
       "      <th>2007</th>\n",
       "      <td>146.95</td>\n",
       "      <td>3.40</td>\n",
       "      <td>9.28</td>\n",
       "      <td>0.00</td>\n",
       "      <td>75.99</td>\n",
       "      <td>73.19</td>\n",
       "      <td>0.00</td>\n",
       "      <td>46.94</td>\n",
       "      <td>152.77</td>\n",
       "      <td>95.41</td>\n",
       "    </tr>\n",
       "    <tr>\n",
       "      <th>2008</th>\n",
       "      <td>145.31</td>\n",
       "      <td>0.00</td>\n",
       "      <td>12.42</td>\n",
       "      <td>0.00</td>\n",
       "      <td>53.90</td>\n",
       "      <td>118.52</td>\n",
       "      <td>0.00</td>\n",
       "      <td>35.35</td>\n",
       "      <td>171.32</td>\n",
       "      <td>135.26</td>\n",
       "    </tr>\n",
       "    <tr>\n",
       "      <th>2009</th>\n",
       "      <td>119.54</td>\n",
       "      <td>0.00</td>\n",
       "      <td>16.91</td>\n",
       "      <td>0.00</td>\n",
       "      <td>26.40</td>\n",
       "      <td>130.93</td>\n",
       "      <td>0.00</td>\n",
       "      <td>37.78</td>\n",
       "      <td>206.97</td>\n",
       "      <td>120.29</td>\n",
       "    </tr>\n",
       "    <tr>\n",
       "      <th>2010</th>\n",
       "      <td>85.02</td>\n",
       "      <td>0.00</td>\n",
       "      <td>24.28</td>\n",
       "      <td>0.00</td>\n",
       "      <td>5.64</td>\n",
       "      <td>142.17</td>\n",
       "      <td>0.00</td>\n",
       "      <td>35.04</td>\n",
       "      <td>127.95</td>\n",
       "      <td>170.08</td>\n",
       "    </tr>\n",
       "    <tr>\n",
       "      <th>2011</th>\n",
       "      <td>26.18</td>\n",
       "      <td>0.00</td>\n",
       "      <td>35.03</td>\n",
       "      <td>0.00</td>\n",
       "      <td>0.45</td>\n",
       "      <td>156.78</td>\n",
       "      <td>0.00</td>\n",
       "      <td>17.82</td>\n",
       "      <td>59.65</td>\n",
       "      <td>143.84</td>\n",
       "    </tr>\n",
       "    <tr>\n",
       "      <th>2012</th>\n",
       "      <td>11.01</td>\n",
       "      <td>0.00</td>\n",
       "      <td>23.57</td>\n",
       "      <td>0.00</td>\n",
       "      <td>0.00</td>\n",
       "      <td>107.36</td>\n",
       "      <td>0.00</td>\n",
       "      <td>7.69</td>\n",
       "      <td>21.71</td>\n",
       "      <td>99.74</td>\n",
       "    </tr>\n",
       "    <tr>\n",
       "      <th>2013</th>\n",
       "      <td>1.54</td>\n",
       "      <td>0.00</td>\n",
       "      <td>12.38</td>\n",
       "      <td>0.00</td>\n",
       "      <td>0.00</td>\n",
       "      <td>113.25</td>\n",
       "      <td>25.99</td>\n",
       "      <td>3.14</td>\n",
       "      <td>8.59</td>\n",
       "      <td>88.58</td>\n",
       "    </tr>\n",
       "    <tr>\n",
       "      <th>2014</th>\n",
       "      <td>0.00</td>\n",
       "      <td>0.00</td>\n",
       "      <td>13.28</td>\n",
       "      <td>0.00</td>\n",
       "      <td>0.00</td>\n",
       "      <td>47.76</td>\n",
       "      <td>100.00</td>\n",
       "      <td>0.24</td>\n",
       "      <td>3.75</td>\n",
       "      <td>34.74</td>\n",
       "    </tr>\n",
       "    <tr>\n",
       "      <th>2015</th>\n",
       "      <td>0.00</td>\n",
       "      <td>0.00</td>\n",
       "      <td>8.52</td>\n",
       "      <td>0.00</td>\n",
       "      <td>0.00</td>\n",
       "      <td>16.82</td>\n",
       "      <td>118.90</td>\n",
       "      <td>0.12</td>\n",
       "      <td>1.14</td>\n",
       "      <td>11.96</td>\n",
       "    </tr>\n",
       "    <tr>\n",
       "      <th>2016</th>\n",
       "      <td>0.00</td>\n",
       "      <td>0.00</td>\n",
       "      <td>5.25</td>\n",
       "      <td>0.00</td>\n",
       "      <td>0.00</td>\n",
       "      <td>3.60</td>\n",
       "      <td>69.25</td>\n",
       "      <td>0.00</td>\n",
       "      <td>0.18</td>\n",
       "      <td>1.52</td>\n",
       "    </tr>\n",
       "  </tbody>\n",
       "</table>\n",
       "</div>"
      ],
      "text/plain": [
       "platform             DS    GBA     PC      PS     PS2     PS3     PS4    PSP  \\\n",
       "year_of_release                                                                \n",
       "1994               0.00   0.00  12.87    6.03    0.00    0.00    0.00   0.00   \n",
       "1995               0.00   0.00   4.22   35.96    0.00    0.00    0.00   0.00   \n",
       "1996               0.00   0.00  10.58   94.70    0.00    0.00    0.00   0.00   \n",
       "1997               0.00   0.00  11.27  136.17    0.00    0.00    0.00   0.00   \n",
       "1998               0.00   0.00   3.26  169.49    0.00    0.00    0.00   0.00   \n",
       "1999               0.00   0.00   4.74  144.53    0.00    0.00    0.00   0.00   \n",
       "2000               0.00   0.07   4.66   96.37   39.17    0.00    0.00   0.00   \n",
       "2001               0.00  61.53   5.47   35.59  166.43    0.00    0.00   0.00   \n",
       "2002               0.00  74.16   8.57    6.67  207.00    0.00    0.00   0.00   \n",
       "2003               0.00  56.67   8.84    2.07  193.05    0.00    0.00   0.00   \n",
       "2004              17.27  77.91  10.39    0.00  212.13    0.00    0.00   7.06   \n",
       "2005             130.14  33.86   4.37    0.00  163.70    0.00    0.00  43.84   \n",
       "2006             119.81   5.28   2.85    0.00  103.42   20.96    0.00  55.32   \n",
       "2007             146.95   3.40   9.28    0.00   75.99   73.19    0.00  46.94   \n",
       "2008             145.31   0.00  12.42    0.00   53.90  118.52    0.00  35.35   \n",
       "2009             119.54   0.00  16.91    0.00   26.40  130.93    0.00  37.78   \n",
       "2010              85.02   0.00  24.28    0.00    5.64  142.17    0.00  35.04   \n",
       "2011              26.18   0.00  35.03    0.00    0.45  156.78    0.00  17.82   \n",
       "2012              11.01   0.00  23.57    0.00    0.00  107.36    0.00   7.69   \n",
       "2013               1.54   0.00  12.38    0.00    0.00  113.25   25.99   3.14   \n",
       "2014               0.00   0.00  13.28    0.00    0.00   47.76  100.00   0.24   \n",
       "2015               0.00   0.00   8.52    0.00    0.00   16.82  118.90   0.12   \n",
       "2016               0.00   0.00   5.25    0.00    0.00    3.60   69.25   0.00   \n",
       "\n",
       "platform            Wii    X360  \n",
       "year_of_release                  \n",
       "1994               0.00    0.00  \n",
       "1995               0.00    0.00  \n",
       "1996               0.00    0.00  \n",
       "1997               0.00    0.00  \n",
       "1998               0.00    0.00  \n",
       "1999               0.00    0.00  \n",
       "2000               0.00    0.00  \n",
       "2001               0.00    0.00  \n",
       "2002               0.00    0.00  \n",
       "2003               0.00    0.00  \n",
       "2004               0.00    0.00  \n",
       "2005               0.00    8.25  \n",
       "2006             137.15   51.63  \n",
       "2007             152.77   95.41  \n",
       "2008             171.32  135.26  \n",
       "2009             206.97  120.29  \n",
       "2010             127.95  170.08  \n",
       "2011              59.65  143.84  \n",
       "2012              21.71   99.74  \n",
       "2013               8.59   88.58  \n",
       "2014               3.75   34.74  \n",
       "2015               1.14   11.96  \n",
       "2016               0.18    1.52  "
      ]
     },
     "metadata": {},
     "output_type": "display_data"
    },
    {
     "name": "stdout",
     "output_type": "stream",
     "text": [
      ">>>>>>>>> Las plataformas líderes en ventas históricas son: <<<<<<<<<\n",
      "\n",
      "1 .- PS2\n",
      "2 .- X360\n",
      "3 .- PS3\n",
      "4 .- Wii\n",
      "5 .- DS\n",
      "6 .- PS\n",
      "7 .- GBA\n",
      "8 .- PS4\n",
      "9 .- PSP\n",
      "10 .- PC\n"
     ]
    }
   ],
   "source": [
    "display(top10_platforms_historic_sales)\n",
    "\n",
    "print('>>>>>>>>> Las plataformas líderes en ventas históricas son: <<<<<<<<<')\n",
    "print()\n",
    "i = 0\n",
    "for platform in top10_platforms_list:\n",
    "    i+=1\n",
    "    print(i,'.-',platform)"
   ]
  },
  {
   "cell_type": "markdown",
   "metadata": {},
   "source": [
    "*En años recientes, solo la PS4 podría considerarse una plataforma todavía rentable. Las demás ya tuvieron su mejor momento: llegaron a su pico de ventas y luego empezaron a vender cada vez menos.*\n",
    "\n",
    "**Plataformas potencialmente rentables:**"
   ]
  },
  {
   "cell_type": "code",
   "execution_count": 22,
   "metadata": {},
   "outputs": [
    {
     "data": {
      "image/png": "[encoded data removed]",
      "text/plain": [
       "<Figure size 1000x400 with 1 Axes>"
      ]
     },
     "metadata": {},
     "output_type": "display_data"
    }
   ],
   "source": [
    "# Agrupando las ventas por plataforma y por año.\n",
    "platforms_sales_by_year = (games\n",
    "                           .query('year_of_release != 0')\n",
    "                           .groupby(['platform', 'year_of_release']) [\n",
    "                               ['na_sales', 'eu_sales', 'jp_sales', 'other_sales', 'total_sales']\n",
    "                            ]\n",
    "                           .sum().reset_index()\n",
    "                           )\n",
    "\n",
    "# Creando un pivot_table para mejor visualización\n",
    "platforms_total_sales_by_year_pivot = platforms_sales_by_year.pivot_table(values='total_sales', columns='platform', index='year_of_release').fillna(0)\n",
    "\n",
    "# Obteniendo los nombres de las plataformas que tuvieron mas ventas en 2016\n",
    "significant_sales_2016_plarforms_names = platforms_total_sales_by_year_pivot.loc[[2016], platforms_total_sales_by_year_pivot.loc[2016] > 5].columns\n",
    "\n",
    "# Creando gráfico que muestre el comportamiento de las plataformas que tuvieron mas ventas en 2016\n",
    "platforms_total_sales_by_year_pivot.loc[:,significant_sales_2016_plarforms_names].plot(title='VENTAS ANUALES PLATAFORMAS ACTIVAS',\n",
    "                                                                                       ylabel='Millones de dolares (USD)', \n",
    "                                                                                       xticks=top10_platforms_historic_sales.groupby('year_of_release').sum().index,\n",
    "                                                                                       xlabel='Año',  \n",
    "                                                                                       figsize=(10,4), \n",
    "                                                                                       grid=True,\n",
    "                                                                                       xlim=(2010, 2016),\n",
    "                                                                                       marker = 'o')\n",
    "\n",
    "plt.legend(title='Plataformas', loc='upper left', fontsize=\"large\")\n",
    "plt.show()"
   ]
  },
  {
   "cell_type": "markdown",
   "metadata": {},
   "source": [
    "*El gráfico muestra el comportamiento reciente de las plataformas que superaron los 5 millones de dólares (USD) en ventas durante el año 2016. Estas plataformas fueron:*\n",
    "- **Nintendo 3DS**\n",
    "- **PC**\n",
    "- **PlayStation 4** \n",
    "- **Xbox One.**\n",
    "\n",
    "*Se observa una tendencia general a la baja en las ventas de todas ellas. No obstante, tanto* **PlayStation 4** *como* **Xbox One** *continúan mostrando un rendimiento significativo, por lo que pueden considerarse plataformas* **potencialmente rentables.**\n",
    "\n",
    "*En cuanto a la plataforma* **PC** *, destaca por ser la única que ha permanecido activa durante tres décadas, aunque con niveles de venta más discretos. Esta estabilidad en el tiempo también la convierte en una opción a considerar como* **potencialmente rentable.**"
   ]
  },
  {
   "cell_type": "markdown",
   "metadata": {},
   "source": [
    "### **Crea un diagrama de caja para las ventas globales de todos los juegos, desglosados por plataforma. ¿Son significativas las diferencias en las ventas?**\n",
    "\n"
   ]
  },
  {
   "cell_type": "code",
   "execution_count": 23,
   "metadata": {},
   "outputs": [
    {
     "data": {
      "image/png": "[encoded data removed]",
      "text/plain": [
       "<Figure size 640x480 with 1 Axes>"
      ]
     },
     "metadata": {},
     "output_type": "display_data"
    }
   ],
   "source": [
    "# Crando un diagrama de cajas para las ventas totales por plataforma\n",
    "platforms_sales['total_sales'].plot(kind='box')\n",
    "\n",
    "plt.title('Distribución de ventas totales por plataforma')\n",
    "plt.ylabel('Millones de USD')\n",
    "plt.grid(True)\n",
    "plt.show()"
   ]
  },
  {
   "cell_type": "markdown",
   "metadata": {},
   "source": [
    "*El diagrama de caja anterior permite observar que existen 6 valores anómalos o outliers, los cuales se separan **significativamente** de la tendencia de comportamiento de las ventas de las demás plataformas. Estas son:*"
   ]
  },
  {
   "cell_type": "code",
   "execution_count": 24,
   "metadata": {},
   "outputs": [
    {
     "data": {
      "text/html": [
       "<div>\n",
       "<style scoped>\n",
       "    .dataframe tbody tr th:only-of-type {\n",
       "        vertical-align: middle;\n",
       "    }\n",
       "\n",
       "    .dataframe tbody tr th {\n",
       "        vertical-align: top;\n",
       "    }\n",
       "\n",
       "    .dataframe thead th {\n",
       "        text-align: right;\n",
       "    }\n",
       "</style>\n",
       "<table border=\"1\" class=\"dataframe\">\n",
       "  <thead>\n",
       "    <tr style=\"text-align: right;\">\n",
       "      <th></th>\n",
       "      <th>platform</th>\n",
       "      <th>total_sales</th>\n",
       "    </tr>\n",
       "  </thead>\n",
       "  <tbody>\n",
       "    <tr>\n",
       "      <th>0</th>\n",
       "      <td>PS2</td>\n",
       "      <td>1255.77</td>\n",
       "    </tr>\n",
       "    <tr>\n",
       "      <th>1</th>\n",
       "      <td>X360</td>\n",
       "      <td>971.42</td>\n",
       "    </tr>\n",
       "    <tr>\n",
       "      <th>2</th>\n",
       "      <td>PS3</td>\n",
       "      <td>939.65</td>\n",
       "    </tr>\n",
       "    <tr>\n",
       "      <th>3</th>\n",
       "      <td>Wii</td>\n",
       "      <td>907.51</td>\n",
       "    </tr>\n",
       "    <tr>\n",
       "      <th>4</th>\n",
       "      <td>DS</td>\n",
       "      <td>806.12</td>\n",
       "    </tr>\n",
       "    <tr>\n",
       "      <th>5</th>\n",
       "      <td>PS</td>\n",
       "      <td>730.86</td>\n",
       "    </tr>\n",
       "  </tbody>\n",
       "</table>\n",
       "</div>"
      ],
      "text/plain": [
       "  platform  total_sales\n",
       "0      PS2      1255.77\n",
       "1     X360       971.42\n",
       "2      PS3       939.65\n",
       "3      Wii       907.51\n",
       "4       DS       806.12\n",
       "5       PS       730.86"
      ]
     },
     "metadata": {},
     "output_type": "display_data"
    }
   ],
   "source": [
    "display(platforms_sales['total_sales'].reset_index().head(6))"
   ]
  },
  {
   "cell_type": "markdown",
   "metadata": {},
   "source": [
    "**¿Qué sucede con las ventas promedio en varias plataformas? Describe tus hallazgos.**"
   ]
  },
  {
   "cell_type": "code",
   "execution_count": 25,
   "metadata": {},
   "outputs": [
    {
     "data": {
      "image/png": "[encoded data removed]",
      "text/plain": [
       "<Figure size 640x480 with 1 Axes>"
      ]
     },
     "metadata": {},
     "output_type": "display_data"
    }
   ],
   "source": [
    "# Obteniendo las ventas promedio por videojuego para cada plataforma\n",
    "avg_sales_per_platform = games.groupby('platform')['total_sales'].mean().sort_values(ascending=False)\n",
    "\n",
    "# Crando un diagrama de cajas para las ventas promedio por videojuego para cada plataforma\n",
    "avg_sales_per_platform.plot(kind='box')\n",
    "\n",
    "plt.title('Promedio de ventas por videojuego y plataforma')\n",
    "plt.ylabel('Millones de USD')\n",
    "plt.grid(True)\n",
    "plt.show()"
   ]
  },
  {
   "cell_type": "markdown",
   "metadata": {},
   "source": [
    "*Se observa que existen 2 plataformas que tienen un promedio de ventas por videojuego lanzado **significativamente** mas altos que el resto y se visualizan como outliers en el grafico anterior. Estas son:*"
   ]
  },
  {
   "cell_type": "code",
   "execution_count": 26,
   "metadata": {},
   "outputs": [
    {
     "data": {
      "text/html": [
       "<div>\n",
       "<style scoped>\n",
       "    .dataframe tbody tr th:only-of-type {\n",
       "        vertical-align: middle;\n",
       "    }\n",
       "\n",
       "    .dataframe tbody tr th {\n",
       "        vertical-align: top;\n",
       "    }\n",
       "\n",
       "    .dataframe thead th {\n",
       "        text-align: right;\n",
       "    }\n",
       "</style>\n",
       "<table border=\"1\" class=\"dataframe\">\n",
       "  <thead>\n",
       "    <tr style=\"text-align: right;\">\n",
       "      <th></th>\n",
       "      <th>platform</th>\n",
       "      <th>total_sales</th>\n",
       "    </tr>\n",
       "  </thead>\n",
       "  <tbody>\n",
       "    <tr>\n",
       "      <th>0</th>\n",
       "      <td>GB</td>\n",
       "      <td>2.606735</td>\n",
       "    </tr>\n",
       "    <tr>\n",
       "      <th>1</th>\n",
       "      <td>NES</td>\n",
       "      <td>2.561735</td>\n",
       "    </tr>\n",
       "  </tbody>\n",
       "</table>\n",
       "</div>"
      ],
      "text/plain": [
       "  platform  total_sales\n",
       "0       GB     2.606735\n",
       "1      NES     2.561735"
      ]
     },
     "metadata": {},
     "output_type": "display_data"
    }
   ],
   "source": [
    "display(avg_sales_per_platform.reset_index().head(2))"
   ]
  },
  {
   "cell_type": "markdown",
   "metadata": {},
   "source": [
    "### **Mira cómo las reseñas de usuarios y profesionales afectan las ventas de una plataforma popular (tu elección). Crea un gráfico de dispersión y calcula la correlación entre las reseñas y las ventas. Saca conclusiones.**\n",
    "\n"
   ]
  },
  {
   "cell_type": "code",
   "execution_count": 27,
   "metadata": {},
   "outputs": [
    {
     "data": {
      "image/png": "[encoded data removed]",
      "text/plain": [
       "<Figure size 640x480 with 1 Axes>"
      ]
     },
     "metadata": {},
     "output_type": "display_data"
    },
    {
     "name": "stdout",
     "output_type": "stream",
     "text": [
      "Correlación entre user_score y total_sales: 0.06\n"
     ]
    }
   ],
   "source": [
    "# Filtrando la plataforma Wii\n",
    "wii_games = games.query('platform == \"Wii\"')\n",
    "\n",
    "# Correlación entre calificaciones y ventas\n",
    "cor_user = wii_games[['user_score', 'total_sales']].corr().iloc[0,1]\n",
    "cor_critic = wii_games[['critic_score', 'total_sales']].corr().iloc[0,1]\n",
    "\n",
    "# Graficando relación 'user_score' vs 'total_sales'\n",
    "wii_games.plot(kind='scatter', \n",
    "               x='user_score', \n",
    "               xlabel='Calificación Usuarios',\n",
    "               xticks=[0,1,2,3,4,5,6,7,8,9,10], \n",
    "               y='total_sales', \n",
    "               ylabel='Ventas totales (millones USD)', \n",
    "               title='Relación entre calificación de usuarios y ventas - Wii',\n",
    "               grid=True)\n",
    "plt.show()\n",
    "\n",
    "print(f\"Correlación entre user_score y total_sales: {cor_user:.2f}\")"
   ]
  },
  {
   "cell_type": "code",
   "execution_count": 28,
   "metadata": {},
   "outputs": [
    {
     "data": {
      "image/png": "[encoded data removed]",
      "text/plain": [
       "<Figure size 640x480 with 1 Axes>"
      ]
     },
     "metadata": {},
     "output_type": "display_data"
    },
    {
     "name": "stdout",
     "output_type": "stream",
     "text": [
      "Correlación entre critic_score y total_sales: 0.11\n"
     ]
    }
   ],
   "source": [
    "# Graficando relación 'critic_score' vs 'total_sales'\n",
    "wii_games.plot(kind='scatter', \n",
    "               x='critic_score', \n",
    "               xlabel='Calificación Profesionales',\n",
    "               xticks=[0,1,2,3,4,5,6,7,8,9,10],  \n",
    "               y='total_sales', \n",
    "               ylabel='Ventas totales (millones USD)', \n",
    "               title='Relación entre calificación de profesionales y ventas - Wii',\n",
    "               grid=True)\n",
    "plt.show()\n",
    "\n",
    "print(f\"Correlación entre critic_score y total_sales: {cor_critic:.2f}\")"
   ]
  },
  {
   "cell_type": "markdown",
   "metadata": {},
   "source": [
    "*Se observa que **no hay una correlación fuerte** entre las calificaciones y las ventas totales de los videojuegos. Aunque sí existe una correlación positiva, esta es bastante débil. Cabe destacar que la relación es ligeramente más fuerte con las calificaciones de la crítica profesional que con las de los usuarios.*"
   ]
  },
  {
   "cell_type": "markdown",
   "metadata": {},
   "source": [
    "### **Teniendo en cuenta tus conclusiones compara las ventas de los mismos juegos en otras plataformas.**\n",
    "\n"
   ]
  },
  {
   "cell_type": "code",
   "execution_count": 29,
   "metadata": {},
   "outputs": [],
   "source": [
    "# Encontrando cuales juegos se lanzaron en mas de una plataforma\n",
    "multiplatform_games_list = games['name'].value_counts()\n",
    "multiplatform_games_list = multiplatform_games_list[multiplatform_games_list > 1].index\n",
    "\n",
    "# Encontrando los juegos multiplataforma que están en Wii\n",
    "wii_multiplatform_games_list = games[(games['name'].isin(multiplatform_games_list)) & (games['platform'] == 'Wii')]\n",
    "wii_multiplatform_games_list = wii_multiplatform_games_list['name'].unique()\n",
    "\n",
    "# Creando DataFrame con juegos multiplataforma que están en Wii\n",
    "wii_multiplatform_games = games.query('name in @wii_multiplatform_games_list')"
   ]
  },
  {
   "cell_type": "code",
   "execution_count": 30,
   "metadata": {},
   "outputs": [],
   "source": [
    "# Agrupando por nombre de juego y por plataforma\n",
    "comparison_platforms = ['X360', 'PS3', 'Wii'] # Plataformas que compiten con Wii\n",
    "\n",
    "wii_multiplatform_games_comparison = wii_multiplatform_games.query('platform in @comparison_platforms')\n",
    "wii_multiplatform_games_comparison = (wii_multiplatform_games_comparison\n",
    "                                      .groupby(['name', 'platform'])['total_sales']\n",
    "                                      .sum().reset_index())\n",
    "# Creando pivot_table\n",
    "wii_multiplatform_games_comparison_sales_pivot = (wii_multiplatform_games_comparison\n",
    "                                                  .pivot_table(values='total_sales',\n",
    "                                                               columns='platform',\n",
    "                                                               index='name')\n",
    "                                                               .dropna())"
   ]
  },
  {
   "cell_type": "code",
   "execution_count": 31,
   "metadata": {},
   "outputs": [],
   "source": [
    "# Obteniendo lista de nombres de los juegos que tienen ventas en ['X360', 'PS3', 'Wii']\n",
    "wii_multiplatform_games_comparison_list = wii_multiplatform_games_comparison_sales_pivot.index\n",
    "# Agrupando por 'name' para obtener la venta total de cada videojuego de la lista\n",
    "wii_multiplatform_games_comparison_total_sales = (games[games['name']\n",
    "                                                        .isin(wii_multiplatform_games_comparison_list)]\n",
    "                                                        .groupby('name')['total_sales'].sum())\n",
    "\n",
    "# Agregando columna 'total_sales' a pivot_table\n",
    "wii_multiplatform_games_comparison_sales_pivot['total_sales'] = wii_multiplatform_games_comparison_total_sales\n",
    "# Ordenando a partir de la columna 'total_sales'\n",
    "wii_multiplatform_games_comparison_sales_pivot.sort_values('total_sales', ascending=False, inplace=True)"
   ]
  },
  {
   "cell_type": "code",
   "execution_count": 32,
   "metadata": {},
   "outputs": [
    {
     "data": {
      "image/png": "[encoded data removed]",
      "text/plain": [
       "<Figure size 1000x500 with 1 Axes>"
      ]
     },
     "metadata": {},
     "output_type": "display_data"
    }
   ],
   "source": [
    "# Graficando\n",
    "wii_multiplatform_games_comparison_sales_pivot[['Wii', 'PS3', 'X360']].head(25).plot(kind='bar',\n",
    "                                                                                     title='TOP 25 JUEGOS MAS VENDIDOS - COMPARACIÓN',\n",
    "                                                                                     xlabel='Nombre del Juego',\n",
    "                                                                                     ylabel='Ventas (millones USD)',\n",
    "                                                                                     grid=True,\n",
    "                                                                                     figsize=(10,5))\n",
    "\n",
    "plt.legend(title='PLATAFORMA', fontsize='large')\n",
    "plt.show()\n"
   ]
  },
  {
   "cell_type": "markdown",
   "metadata": {},
   "source": [
    "*La gráfica muestra las ventas por plataforma de los juegos multiplataforma más vendidos que estuvieron disponibles en Wii, PS3 y Xbox 360.*\n",
    "\n",
    "*Se observa que durante esta generación de videojuegos, los juegos mas vendidos fueron principalmente comprados para la PS3 y Xbox 360. La consola Wii es la favorita para juegos como de un tono mas familiar como los \"LEGO\" o de baile y ritmo como \"\"Zumba Fitness\", \"Just Dance\" y \"Guitar Hero\".*"
   ]
  },
  {
   "cell_type": "markdown",
   "metadata": {},
   "source": [
    "### **Echa un vistazo a la distribución general de los juegos por género. ¿Qué se puede decir de los géneros más rentables? ¿Puedes generalizar acerca de los géneros con ventas altas y bajas?**"
   ]
  },
  {
   "cell_type": "code",
   "execution_count": 33,
   "metadata": {},
   "outputs": [
    {
     "name": "stdout",
     "output_type": "stream",
     "text": [
      ">>>>> Top 5 generos con mas ventas <<<<<\n"
     ]
    },
    {
     "data": {
      "text/html": [
       "<div>\n",
       "<style scoped>\n",
       "    .dataframe tbody tr th:only-of-type {\n",
       "        vertical-align: middle;\n",
       "    }\n",
       "\n",
       "    .dataframe tbody tr th {\n",
       "        vertical-align: top;\n",
       "    }\n",
       "\n",
       "    .dataframe thead th {\n",
       "        text-align: right;\n",
       "    }\n",
       "</style>\n",
       "<table border=\"1\" class=\"dataframe\">\n",
       "  <thead>\n",
       "    <tr style=\"text-align: right;\">\n",
       "      <th></th>\n",
       "      <th>genre</th>\n",
       "      <th>total_sales</th>\n",
       "    </tr>\n",
       "  </thead>\n",
       "  <tbody>\n",
       "    <tr>\n",
       "      <th>0</th>\n",
       "      <td>Action</td>\n",
       "      <td>1744.17</td>\n",
       "    </tr>\n",
       "    <tr>\n",
       "      <th>10</th>\n",
       "      <td>Sports</td>\n",
       "      <td>1331.27</td>\n",
       "    </tr>\n",
       "    <tr>\n",
       "      <th>8</th>\n",
       "      <td>Shooter</td>\n",
       "      <td>1052.45</td>\n",
       "    </tr>\n",
       "    <tr>\n",
       "      <th>7</th>\n",
       "      <td>Role-Playing</td>\n",
       "      <td>934.56</td>\n",
       "    </tr>\n",
       "    <tr>\n",
       "      <th>4</th>\n",
       "      <td>Platform</td>\n",
       "      <td>827.77</td>\n",
       "    </tr>\n",
       "  </tbody>\n",
       "</table>\n",
       "</div>"
      ],
      "text/plain": [
       "           genre  total_sales\n",
       "0         Action      1744.17\n",
       "10        Sports      1331.27\n",
       "8        Shooter      1052.45\n",
       "7   Role-Playing       934.56\n",
       "4       Platform       827.77"
      ]
     },
     "metadata": {},
     "output_type": "display_data"
    },
    {
     "name": "stdout",
     "output_type": "stream",
     "text": [
      "\n",
      ">>>>> Top 5 generos con mejor promedio de ventas por videojuego <<<<<\n"
     ]
    },
    {
     "data": {
      "text/html": [
       "<div>\n",
       "<style scoped>\n",
       "    .dataframe tbody tr th:only-of-type {\n",
       "        vertical-align: middle;\n",
       "    }\n",
       "\n",
       "    .dataframe tbody tr th {\n",
       "        vertical-align: top;\n",
       "    }\n",
       "\n",
       "    .dataframe thead th {\n",
       "        text-align: right;\n",
       "    }\n",
       "</style>\n",
       "<table border=\"1\" class=\"dataframe\">\n",
       "  <thead>\n",
       "    <tr style=\"text-align: right;\">\n",
       "      <th></th>\n",
       "      <th>genre</th>\n",
       "      <th>mean_sales</th>\n",
       "    </tr>\n",
       "  </thead>\n",
       "  <tbody>\n",
       "    <tr>\n",
       "      <th>4</th>\n",
       "      <td>Platform</td>\n",
       "      <td>0.932173</td>\n",
       "    </tr>\n",
       "    <tr>\n",
       "      <th>8</th>\n",
       "      <td>Shooter</td>\n",
       "      <td>0.795503</td>\n",
       "    </tr>\n",
       "    <tr>\n",
       "      <th>7</th>\n",
       "      <td>Role-Playing</td>\n",
       "      <td>0.623872</td>\n",
       "    </tr>\n",
       "    <tr>\n",
       "      <th>6</th>\n",
       "      <td>Racing</td>\n",
       "      <td>0.583403</td>\n",
       "    </tr>\n",
       "    <tr>\n",
       "      <th>10</th>\n",
       "      <td>Sports</td>\n",
       "      <td>0.566980</td>\n",
       "    </tr>\n",
       "  </tbody>\n",
       "</table>\n",
       "</div>"
      ],
      "text/plain": [
       "           genre  mean_sales\n",
       "4       Platform    0.932173\n",
       "8        Shooter    0.795503\n",
       "7   Role-Playing    0.623872\n",
       "6         Racing    0.583403\n",
       "10        Sports    0.566980"
      ]
     },
     "metadata": {},
     "output_type": "display_data"
    }
   ],
   "source": [
    "# Agrupando y ordenando por género para mostrar las ventas por región.\n",
    "genre_sales = games.groupby('genre')[['na_sales','eu_sales','jp_sales','other_sales', 'total_sales']].sum().reset_index()\n",
    "genre_sales.sort_values('total_sales', ascending=False, inplace=True)\n",
    "# Agrupando y ordenando por género para mostrar el promedio de ventas por región.\n",
    "genre_mean_sales = games.groupby('genre')['total_sales'].mean().reset_index()\n",
    "genre_mean_sales.columns = ['genre', 'mean_sales']\n",
    "genre_mean_sales.sort_values('mean_sales', ascending=False, inplace=True)\n",
    "\n",
    "\n",
    "print('>>>>> Top 5 generos con mas ventas <<<<<')\n",
    "display(genre_sales[['genre', 'total_sales']].head(5))\n",
    "print()\n",
    "\n",
    "print('>>>>> Top 5 generos con mejor promedio de ventas por videojuego <<<<<')\n",
    "display(genre_mean_sales.head(5))\n"
   ]
  },
  {
   "cell_type": "markdown",
   "metadata": {},
   "source": [
    "*Determinar cuales son los géneros mas rentables puede tener 2 enfoques diferentes:*\n",
    "\n",
    "- *Género que mas ventas ha tenido en general*\n",
    "- *Género que mas ventas genera por cada videojuego que se lanza (promedio)*\n",
    "\n",
    "*Desde el punto de vista de una tienda que no desarrolla videojuegos si no únicamente los distribuye, el enfoque ideal sería conocer cuales son los géneros que tienen mas ventas en general (volumen total de ventas.)*\n",
    "\n",
    "*Me parece interesante conocer cuales son los generos que cuentan con los volumenes de venta mayor y además cuentan con un promedio de ventas alto, como lo son:*\n",
    "\n",
    "- *Platform*\n",
    "- *Shooter*\n",
    "- *Role-Playing*\n",
    "- *Sports*\n",
    "\n",
    "*Llama la atención que **\"Action\"** a pesar de ser el genero con mayor volumen de ventas con difencia, no aparece en el top 5 de mejores promedios de venta.*\n",
    "\n",
    "*A mi parecer, el genero **\"Shooter\"** es muy atractivo debido a que tiene ventas muy altas (Top 3) y un promedio por videojuegos muy competitivo (Top 2).*"
   ]
  },
  {
   "cell_type": "markdown",
   "metadata": {},
   "source": [
    "## **Perfil de usuario para cada región**"
   ]
  },
  {
   "cell_type": "markdown",
   "metadata": {},
   "source": [
    "### **Para cada región (NA, UE, JP) determina las cinco plataformas principales. Describe las variaciones en sus cuotas de mercado de una región a otra.**\n"
   ]
  },
  {
   "cell_type": "code",
   "execution_count": 34,
   "metadata": {},
   "outputs": [
    {
     "name": "stdout",
     "output_type": "stream",
     "text": [
      ">>> Region NA - Plataformas principales <<<\n"
     ]
    },
    {
     "data": {
      "text/html": [
       "<div>\n",
       "<style scoped>\n",
       "    .dataframe tbody tr th:only-of-type {\n",
       "        vertical-align: middle;\n",
       "    }\n",
       "\n",
       "    .dataframe tbody tr th {\n",
       "        vertical-align: top;\n",
       "    }\n",
       "\n",
       "    .dataframe thead th {\n",
       "        text-align: right;\n",
       "    }\n",
       "</style>\n",
       "<table border=\"1\" class=\"dataframe\">\n",
       "  <thead>\n",
       "    <tr style=\"text-align: right;\">\n",
       "      <th></th>\n",
       "      <th>platform</th>\n",
       "      <th>na_sales</th>\n",
       "      <th>total_sales</th>\n",
       "      <th>market_share</th>\n",
       "    </tr>\n",
       "  </thead>\n",
       "  <tbody>\n",
       "    <tr>\n",
       "      <th>0</th>\n",
       "      <td>X360</td>\n",
       "      <td>602.47</td>\n",
       "      <td>971.42</td>\n",
       "      <td>62.02</td>\n",
       "    </tr>\n",
       "    <tr>\n",
       "      <th>1</th>\n",
       "      <td>PS2</td>\n",
       "      <td>583.84</td>\n",
       "      <td>1255.77</td>\n",
       "      <td>46.49</td>\n",
       "    </tr>\n",
       "    <tr>\n",
       "      <th>2</th>\n",
       "      <td>Wii</td>\n",
       "      <td>496.90</td>\n",
       "      <td>907.51</td>\n",
       "      <td>54.75</td>\n",
       "    </tr>\n",
       "    <tr>\n",
       "      <th>3</th>\n",
       "      <td>PS3</td>\n",
       "      <td>393.49</td>\n",
       "      <td>939.65</td>\n",
       "      <td>41.88</td>\n",
       "    </tr>\n",
       "    <tr>\n",
       "      <th>4</th>\n",
       "      <td>DS</td>\n",
       "      <td>382.40</td>\n",
       "      <td>806.12</td>\n",
       "      <td>47.44</td>\n",
       "    </tr>\n",
       "  </tbody>\n",
       "</table>\n",
       "</div>"
      ],
      "text/plain": [
       "  platform  na_sales  total_sales  market_share\n",
       "0     X360    602.47       971.42         62.02\n",
       "1      PS2    583.84      1255.77         46.49\n",
       "2      Wii    496.90       907.51         54.75\n",
       "3      PS3    393.49       939.65         41.88\n",
       "4       DS    382.40       806.12         47.44"
      ]
     },
     "metadata": {},
     "output_type": "display_data"
    },
    {
     "name": "stdout",
     "output_type": "stream",
     "text": [
      ">>> Region EU - Plataformas principales <<<\n"
     ]
    },
    {
     "data": {
      "text/html": [
       "<div>\n",
       "<style scoped>\n",
       "    .dataframe tbody tr th:only-of-type {\n",
       "        vertical-align: middle;\n",
       "    }\n",
       "\n",
       "    .dataframe tbody tr th {\n",
       "        vertical-align: top;\n",
       "    }\n",
       "\n",
       "    .dataframe thead th {\n",
       "        text-align: right;\n",
       "    }\n",
       "</style>\n",
       "<table border=\"1\" class=\"dataframe\">\n",
       "  <thead>\n",
       "    <tr style=\"text-align: right;\">\n",
       "      <th></th>\n",
       "      <th>platform</th>\n",
       "      <th>eu_sales</th>\n",
       "      <th>total_sales</th>\n",
       "      <th>market_share</th>\n",
       "    </tr>\n",
       "  </thead>\n",
       "  <tbody>\n",
       "    <tr>\n",
       "      <th>0</th>\n",
       "      <td>PS2</td>\n",
       "      <td>339.29</td>\n",
       "      <td>1255.77</td>\n",
       "      <td>27.02</td>\n",
       "    </tr>\n",
       "    <tr>\n",
       "      <th>1</th>\n",
       "      <td>PS3</td>\n",
       "      <td>330.29</td>\n",
       "      <td>939.65</td>\n",
       "      <td>35.15</td>\n",
       "    </tr>\n",
       "    <tr>\n",
       "      <th>2</th>\n",
       "      <td>X360</td>\n",
       "      <td>270.76</td>\n",
       "      <td>971.42</td>\n",
       "      <td>27.87</td>\n",
       "    </tr>\n",
       "    <tr>\n",
       "      <th>3</th>\n",
       "      <td>Wii</td>\n",
       "      <td>262.21</td>\n",
       "      <td>907.51</td>\n",
       "      <td>28.89</td>\n",
       "    </tr>\n",
       "    <tr>\n",
       "      <th>4</th>\n",
       "      <td>PS</td>\n",
       "      <td>213.61</td>\n",
       "      <td>730.86</td>\n",
       "      <td>29.23</td>\n",
       "    </tr>\n",
       "  </tbody>\n",
       "</table>\n",
       "</div>"
      ],
      "text/plain": [
       "  platform  eu_sales  total_sales  market_share\n",
       "0      PS2    339.29      1255.77         27.02\n",
       "1      PS3    330.29       939.65         35.15\n",
       "2     X360    270.76       971.42         27.87\n",
       "3      Wii    262.21       907.51         28.89\n",
       "4       PS    213.61       730.86         29.23"
      ]
     },
     "metadata": {},
     "output_type": "display_data"
    },
    {
     "name": "stdout",
     "output_type": "stream",
     "text": [
      ">>> Region JP - Plataformas principales <<<\n"
     ]
    },
    {
     "data": {
      "text/html": [
       "<div>\n",
       "<style scoped>\n",
       "    .dataframe tbody tr th:only-of-type {\n",
       "        vertical-align: middle;\n",
       "    }\n",
       "\n",
       "    .dataframe tbody tr th {\n",
       "        vertical-align: top;\n",
       "    }\n",
       "\n",
       "    .dataframe thead th {\n",
       "        text-align: right;\n",
       "    }\n",
       "</style>\n",
       "<table border=\"1\" class=\"dataframe\">\n",
       "  <thead>\n",
       "    <tr style=\"text-align: right;\">\n",
       "      <th></th>\n",
       "      <th>platform</th>\n",
       "      <th>jp_sales</th>\n",
       "      <th>total_sales</th>\n",
       "      <th>market_share</th>\n",
       "    </tr>\n",
       "  </thead>\n",
       "  <tbody>\n",
       "    <tr>\n",
       "      <th>0</th>\n",
       "      <td>DS</td>\n",
       "      <td>175.57</td>\n",
       "      <td>806.12</td>\n",
       "      <td>21.78</td>\n",
       "    </tr>\n",
       "    <tr>\n",
       "      <th>1</th>\n",
       "      <td>PS</td>\n",
       "      <td>139.82</td>\n",
       "      <td>730.86</td>\n",
       "      <td>19.13</td>\n",
       "    </tr>\n",
       "    <tr>\n",
       "      <th>2</th>\n",
       "      <td>PS2</td>\n",
       "      <td>139.20</td>\n",
       "      <td>1255.77</td>\n",
       "      <td>11.08</td>\n",
       "    </tr>\n",
       "    <tr>\n",
       "      <th>3</th>\n",
       "      <td>SNES</td>\n",
       "      <td>116.55</td>\n",
       "      <td>200.04</td>\n",
       "      <td>58.26</td>\n",
       "    </tr>\n",
       "    <tr>\n",
       "      <th>4</th>\n",
       "      <td>3DS</td>\n",
       "      <td>100.67</td>\n",
       "      <td>259.00</td>\n",
       "      <td>38.87</td>\n",
       "    </tr>\n",
       "  </tbody>\n",
       "</table>\n",
       "</div>"
      ],
      "text/plain": [
       "  platform  jp_sales  total_sales  market_share\n",
       "0       DS    175.57       806.12         21.78\n",
       "1       PS    139.82       730.86         19.13\n",
       "2      PS2    139.20      1255.77         11.08\n",
       "3     SNES    116.55       200.04         58.26\n",
       "4      3DS    100.67       259.00         38.87"
      ]
     },
     "metadata": {},
     "output_type": "display_data"
    },
    {
     "name": "stdout",
     "output_type": "stream",
     "text": [
      ">>> Resto del mundo - Plataformas principales <<<\n"
     ]
    },
    {
     "data": {
      "text/html": [
       "<div>\n",
       "<style scoped>\n",
       "    .dataframe tbody tr th:only-of-type {\n",
       "        vertical-align: middle;\n",
       "    }\n",
       "\n",
       "    .dataframe tbody tr th {\n",
       "        vertical-align: top;\n",
       "    }\n",
       "\n",
       "    .dataframe thead th {\n",
       "        text-align: right;\n",
       "    }\n",
       "</style>\n",
       "<table border=\"1\" class=\"dataframe\">\n",
       "  <thead>\n",
       "    <tr style=\"text-align: right;\">\n",
       "      <th></th>\n",
       "      <th>platform</th>\n",
       "      <th>other_sales</th>\n",
       "      <th>total_sales</th>\n",
       "      <th>market_share</th>\n",
       "    </tr>\n",
       "  </thead>\n",
       "  <tbody>\n",
       "    <tr>\n",
       "      <th>0</th>\n",
       "      <td>PS2</td>\n",
       "      <td>193.44</td>\n",
       "      <td>1255.77</td>\n",
       "      <td>15.40</td>\n",
       "    </tr>\n",
       "    <tr>\n",
       "      <th>1</th>\n",
       "      <td>PS3</td>\n",
       "      <td>135.68</td>\n",
       "      <td>939.65</td>\n",
       "      <td>14.44</td>\n",
       "    </tr>\n",
       "    <tr>\n",
       "      <th>2</th>\n",
       "      <td>X360</td>\n",
       "      <td>85.76</td>\n",
       "      <td>971.42</td>\n",
       "      <td>8.83</td>\n",
       "    </tr>\n",
       "    <tr>\n",
       "      <th>3</th>\n",
       "      <td>Wii</td>\n",
       "      <td>79.07</td>\n",
       "      <td>907.51</td>\n",
       "      <td>8.71</td>\n",
       "    </tr>\n",
       "    <tr>\n",
       "      <th>4</th>\n",
       "      <td>DS</td>\n",
       "      <td>59.26</td>\n",
       "      <td>806.12</td>\n",
       "      <td>7.35</td>\n",
       "    </tr>\n",
       "  </tbody>\n",
       "</table>\n",
       "</div>"
      ],
      "text/plain": [
       "  platform  other_sales  total_sales  market_share\n",
       "0      PS2       193.44      1255.77         15.40\n",
       "1      PS3       135.68       939.65         14.44\n",
       "2     X360        85.76       971.42          8.83\n",
       "3      Wii        79.07       907.51          8.71\n",
       "4       DS        59.26       806.12          7.35"
      ]
     },
     "metadata": {},
     "output_type": "display_data"
    }
   ],
   "source": [
    "# Agrupando y sumando las ventas para cada plataforma en cada región.\n",
    "platform_sales_by_region = games.groupby('platform')[['na_sales','eu_sales','jp_sales','other_sales', 'total_sales']].sum()\n",
    "\n",
    "# Obteniendo el top 5 de plataformas principales para cada región.\n",
    "    # Región NA\n",
    "top5_platform_na = platform_sales_by_region['na_sales'].sort_values(ascending=False).reset_index().head(5)\n",
    "top5_platform_na = top5_platform_na.merge(platform_sales_by_region['total_sales'].reset_index(), on='platform')\n",
    "        # Calculando cuota de mercado (Porcentaje de aportación)\n",
    "top5_platform_na['market_share'] = ((top5_platform_na['na_sales'] / top5_platform_na['total_sales']) * 100).round(2)\n",
    "\n",
    "print('>>> Region NA - Plataformas principales <<<')\n",
    "display(top5_platform_na)\n",
    "    \n",
    "    # Región EU\n",
    "top5_platform_eu = platform_sales_by_region['eu_sales'].sort_values(ascending=False).reset_index().head(5)\n",
    "top5_platform_eu = top5_platform_eu.merge(platform_sales_by_region['total_sales'].reset_index(), on='platform')\n",
    "        # Calculando cuota de mercado (Porcentaje de aportación)\n",
    "top5_platform_eu['market_share'] = ((top5_platform_eu['eu_sales'] / top5_platform_eu['total_sales']) * 100).round(2)\n",
    "\n",
    "print('>>> Region EU - Plataformas principales <<<')\n",
    "display(top5_platform_eu)\n",
    "\n",
    "    # Región JP\n",
    "top5_platform_jp = platform_sales_by_region['jp_sales'].sort_values(ascending=False).reset_index().head(5)\n",
    "top5_platform_jp = top5_platform_jp.merge(platform_sales_by_region['total_sales'].reset_index(), on='platform')\n",
    "        # Calculando cuota de mercado (Porcentaje de aportación)\n",
    "top5_platform_jp['market_share'] = ((top5_platform_jp['jp_sales'] / top5_platform_jp['total_sales']) * 100).round(2)\n",
    "\n",
    "print('>>> Region JP - Plataformas principales <<<')\n",
    "display(top5_platform_jp)\n",
    "\n",
    "    # Región other\n",
    "top5_platform_other = platform_sales_by_region['other_sales'].sort_values(ascending=False).reset_index().head(5)\n",
    "top5_platform_other = top5_platform_other.merge(platform_sales_by_region['total_sales'].reset_index(), on='platform')\n",
    "        # Calculando cuota de mercado (Porcentaje de aportación)\n",
    "top5_platform_other['market_share'] = ((top5_platform_other['other_sales'] / top5_platform_other['total_sales']) * 100).round(2)\n",
    "\n",
    "print('>>> Resto del mundo - Plataformas principales <<<')\n",
    "display(top5_platform_other)"
   ]
  },
  {
   "cell_type": "markdown",
   "metadata": {},
   "source": [
    "***Región Norte América (NA):***\n",
    "\n",
    "- *La plataforma con mas ventas es Xbox 360 y representa un 62% de aporte a las ventas totales.*\n",
    "- *Para sus 5 plataformas mas importantes, se observan porcentajes de aportación altos, cercanos al 50%, lo que se interpreta como que el mercado américano es el mayor consumidor de videojuegos.*\n",
    "\n",
    "***Región Europea (EU):***\n",
    "\n",
    "- *La plataforma con mas ventas es PlayStation 2 y representa un 27% de aporte a las ventas totales.*\n",
    "- *En esta región, la cuota de mercado mas alta es la del PlayStation 3 con un 35%. Esta es la segunda plataforma con mas ventas en Europa.*\n",
    "- *En general, los porcentajes de aportación son medios, alrededor de 30%.*\n",
    "\n",
    "***Región Japón (JP):***\n",
    "\n",
    "- *La plataforma con mas ventas es Nintendo DS, con un porcentaje de aportación de 21.78% a las ventas totales de esta plataforma.*\n",
    "- *Se observa que esta región representa el 58% de las ventas de la Nintendo SNES en todo el mundo. A pesar de ser la 4ta plataforma con mas ventas en esta región.*\n",
    "- *Las cuotas de mercado son muy variables en esta región pero en general menores a NA y EU.*\n",
    "\n",
    "***Resto del mundo (other):***\n",
    "\n",
    "- *La plataforma con mas ventas es PS2, seguida de PS3 con cuotas de mercado de 15.4% y 14.44% respectivamente.*\n",
    "- *En general el aporte a las ventas en estas regiones son muy bajos, alrededor de 10%.*"
   ]
  },
  {
   "cell_type": "markdown",
   "metadata": {},
   "source": [
    "### **Para cada región (NA, UE, JP) determina los cinco géneros principales. Explica la diferencia.**\n"
   ]
  },
  {
   "cell_type": "code",
   "execution_count": 35,
   "metadata": {},
   "outputs": [
    {
     "name": "stdout",
     "output_type": "stream",
     "text": [
      ">>> Region NA - Géneros principales <<<\n"
     ]
    },
    {
     "data": {
      "text/html": [
       "<div>\n",
       "<style scoped>\n",
       "    .dataframe tbody tr th:only-of-type {\n",
       "        vertical-align: middle;\n",
       "    }\n",
       "\n",
       "    .dataframe tbody tr th {\n",
       "        vertical-align: top;\n",
       "    }\n",
       "\n",
       "    .dataframe thead th {\n",
       "        text-align: right;\n",
       "    }\n",
       "</style>\n",
       "<table border=\"1\" class=\"dataframe\">\n",
       "  <thead>\n",
       "    <tr style=\"text-align: right;\">\n",
       "      <th></th>\n",
       "      <th>genre</th>\n",
       "      <th>na_sales</th>\n",
       "    </tr>\n",
       "  </thead>\n",
       "  <tbody>\n",
       "    <tr>\n",
       "      <th>0</th>\n",
       "      <td>Action</td>\n",
       "      <td>879.01</td>\n",
       "    </tr>\n",
       "    <tr>\n",
       "      <th>10</th>\n",
       "      <td>Sports</td>\n",
       "      <td>684.43</td>\n",
       "    </tr>\n",
       "    <tr>\n",
       "      <th>8</th>\n",
       "      <td>Shooter</td>\n",
       "      <td>592.24</td>\n",
       "    </tr>\n",
       "    <tr>\n",
       "      <th>4</th>\n",
       "      <td>Platform</td>\n",
       "      <td>445.50</td>\n",
       "    </tr>\n",
       "    <tr>\n",
       "      <th>3</th>\n",
       "      <td>Misc</td>\n",
       "      <td>407.27</td>\n",
       "    </tr>\n",
       "  </tbody>\n",
       "</table>\n",
       "</div>"
      ],
      "text/plain": [
       "       genre  na_sales\n",
       "0     Action    879.01\n",
       "10    Sports    684.43\n",
       "8    Shooter    592.24\n",
       "4   Platform    445.50\n",
       "3       Misc    407.27"
      ]
     },
     "metadata": {},
     "output_type": "display_data"
    },
    {
     "name": "stdout",
     "output_type": "stream",
     "text": [
      ">>> Region EU - Géneros principales <<<\n"
     ]
    },
    {
     "data": {
      "text/html": [
       "<div>\n",
       "<style scoped>\n",
       "    .dataframe tbody tr th:only-of-type {\n",
       "        vertical-align: middle;\n",
       "    }\n",
       "\n",
       "    .dataframe tbody tr th {\n",
       "        vertical-align: top;\n",
       "    }\n",
       "\n",
       "    .dataframe thead th {\n",
       "        text-align: right;\n",
       "    }\n",
       "</style>\n",
       "<table border=\"1\" class=\"dataframe\">\n",
       "  <thead>\n",
       "    <tr style=\"text-align: right;\">\n",
       "      <th></th>\n",
       "      <th>genre</th>\n",
       "      <th>eu_sales</th>\n",
       "    </tr>\n",
       "  </thead>\n",
       "  <tbody>\n",
       "    <tr>\n",
       "      <th>0</th>\n",
       "      <td>Action</td>\n",
       "      <td>519.13</td>\n",
       "    </tr>\n",
       "    <tr>\n",
       "      <th>10</th>\n",
       "      <td>Sports</td>\n",
       "      <td>376.79</td>\n",
       "    </tr>\n",
       "    <tr>\n",
       "      <th>8</th>\n",
       "      <td>Shooter</td>\n",
       "      <td>317.34</td>\n",
       "    </tr>\n",
       "    <tr>\n",
       "      <th>6</th>\n",
       "      <td>Racing</td>\n",
       "      <td>236.51</td>\n",
       "    </tr>\n",
       "    <tr>\n",
       "      <th>3</th>\n",
       "      <td>Misc</td>\n",
       "      <td>212.74</td>\n",
       "    </tr>\n",
       "  </tbody>\n",
       "</table>\n",
       "</div>"
      ],
      "text/plain": [
       "      genre  eu_sales\n",
       "0    Action    519.13\n",
       "10   Sports    376.79\n",
       "8   Shooter    317.34\n",
       "6    Racing    236.51\n",
       "3      Misc    212.74"
      ]
     },
     "metadata": {},
     "output_type": "display_data"
    },
    {
     "name": "stdout",
     "output_type": "stream",
     "text": [
      ">>> Region JP - Géneros principales <<<\n"
     ]
    },
    {
     "data": {
      "text/html": [
       "<div>\n",
       "<style scoped>\n",
       "    .dataframe tbody tr th:only-of-type {\n",
       "        vertical-align: middle;\n",
       "    }\n",
       "\n",
       "    .dataframe tbody tr th {\n",
       "        vertical-align: top;\n",
       "    }\n",
       "\n",
       "    .dataframe thead th {\n",
       "        text-align: right;\n",
       "    }\n",
       "</style>\n",
       "<table border=\"1\" class=\"dataframe\">\n",
       "  <thead>\n",
       "    <tr style=\"text-align: right;\">\n",
       "      <th></th>\n",
       "      <th>genre</th>\n",
       "      <th>jp_sales</th>\n",
       "    </tr>\n",
       "  </thead>\n",
       "  <tbody>\n",
       "    <tr>\n",
       "      <th>7</th>\n",
       "      <td>Role-Playing</td>\n",
       "      <td>355.41</td>\n",
       "    </tr>\n",
       "    <tr>\n",
       "      <th>0</th>\n",
       "      <td>Action</td>\n",
       "      <td>161.43</td>\n",
       "    </tr>\n",
       "    <tr>\n",
       "      <th>10</th>\n",
       "      <td>Sports</td>\n",
       "      <td>135.54</td>\n",
       "    </tr>\n",
       "    <tr>\n",
       "      <th>4</th>\n",
       "      <td>Platform</td>\n",
       "      <td>130.83</td>\n",
       "    </tr>\n",
       "    <tr>\n",
       "      <th>3</th>\n",
       "      <td>Misc</td>\n",
       "      <td>108.11</td>\n",
       "    </tr>\n",
       "  </tbody>\n",
       "</table>\n",
       "</div>"
      ],
      "text/plain": [
       "           genre  jp_sales\n",
       "7   Role-Playing    355.41\n",
       "0         Action    161.43\n",
       "10        Sports    135.54\n",
       "4       Platform    130.83\n",
       "3           Misc    108.11"
      ]
     },
     "metadata": {},
     "output_type": "display_data"
    },
    {
     "name": "stdout",
     "output_type": "stream",
     "text": [
      ">>> Resto del mundo - Géneros principales <<<\n"
     ]
    },
    {
     "data": {
      "text/html": [
       "<div>\n",
       "<style scoped>\n",
       "    .dataframe tbody tr th:only-of-type {\n",
       "        vertical-align: middle;\n",
       "    }\n",
       "\n",
       "    .dataframe tbody tr th {\n",
       "        vertical-align: top;\n",
       "    }\n",
       "\n",
       "    .dataframe thead th {\n",
       "        text-align: right;\n",
       "    }\n",
       "</style>\n",
       "<table border=\"1\" class=\"dataframe\">\n",
       "  <thead>\n",
       "    <tr style=\"text-align: right;\">\n",
       "      <th></th>\n",
       "      <th>genre</th>\n",
       "      <th>other_sales</th>\n",
       "    </tr>\n",
       "  </thead>\n",
       "  <tbody>\n",
       "    <tr>\n",
       "      <th>0</th>\n",
       "      <td>Action</td>\n",
       "      <td>184.60</td>\n",
       "    </tr>\n",
       "    <tr>\n",
       "      <th>10</th>\n",
       "      <td>Sports</td>\n",
       "      <td>134.51</td>\n",
       "    </tr>\n",
       "    <tr>\n",
       "      <th>8</th>\n",
       "      <td>Shooter</td>\n",
       "      <td>104.11</td>\n",
       "    </tr>\n",
       "    <tr>\n",
       "      <th>6</th>\n",
       "      <td>Racing</td>\n",
       "      <td>76.10</td>\n",
       "    </tr>\n",
       "    <tr>\n",
       "      <th>3</th>\n",
       "      <td>Misc</td>\n",
       "      <td>74.39</td>\n",
       "    </tr>\n",
       "  </tbody>\n",
       "</table>\n",
       "</div>"
      ],
      "text/plain": [
       "      genre  other_sales\n",
       "0    Action       184.60\n",
       "10   Sports       134.51\n",
       "8   Shooter       104.11\n",
       "6    Racing        76.10\n",
       "3      Misc        74.39"
      ]
     },
     "metadata": {},
     "output_type": "display_data"
    }
   ],
   "source": [
    "# Región NA\n",
    "top5_genre_na = genre_sales[['genre', 'na_sales']].sort_values(by='na_sales',ascending=False).head(5)\n",
    "print('>>> Region NA - Géneros principales <<<')\n",
    "display(top5_genre_na)\n",
    "\n",
    "# Región EU\n",
    "top5_genre_eu = genre_sales[['genre', 'eu_sales']].sort_values(by='eu_sales',ascending=False).head(5)\n",
    "print('>>> Region EU - Géneros principales <<<')\n",
    "display(top5_genre_eu)\n",
    "\n",
    "# Región JP\n",
    "top5_genre_jp = genre_sales[['genre', 'jp_sales']].sort_values(by='jp_sales',ascending=False).head(5)\n",
    "print('>>> Region JP - Géneros principales <<<')\n",
    "display(top5_genre_jp)\n",
    "\n",
    "# Región other\n",
    "top5_genre_other = genre_sales[['genre', 'other_sales']].sort_values(by='other_sales',ascending=False).head(5)\n",
    "print('>>> Resto del mundo - Géneros principales <<<')\n",
    "display(top5_genre_other)"
   ]
  },
  {
   "cell_type": "markdown",
   "metadata": {},
   "source": [
    "- *En Norteamérica, Europa y el resto del mundo, los tres géneros que han generado más ventas son ***Action***, ***Sports*** y ***Shooter***.*\n",
    "\n",
    "- *Japón es la única región donde esta tendencia cambia: el género más vendido es ***Role-Playing***, con $355.41 millones de dólares, seguido por ***Action*** y ***Sports***. En esta región, el género ***Shooter*** no goza de tanta popularidad.*\n",
    "\n",
    "- *Además, Japón es la única región en la que ***Platform*** aparece dentro del top 5 de géneros más vendidos.*"
   ]
  },
  {
   "cell_type": "markdown",
   "metadata": {},
   "source": [
    "### **Para cada región (NA, UE, JP) determina si las clasificaciones de ESRB afectan a las ventas en regiones individuales.**"
   ]
  },
  {
   "cell_type": "code",
   "execution_count": 36,
   "metadata": {},
   "outputs": [
    {
     "data": {
      "text/html": [
       "<div>\n",
       "<style scoped>\n",
       "    .dataframe tbody tr th:only-of-type {\n",
       "        vertical-align: middle;\n",
       "    }\n",
       "\n",
       "    .dataframe tbody tr th {\n",
       "        vertical-align: top;\n",
       "    }\n",
       "\n",
       "    .dataframe thead th {\n",
       "        text-align: right;\n",
       "    }\n",
       "</style>\n",
       "<table border=\"1\" class=\"dataframe\">\n",
       "  <thead>\n",
       "    <tr style=\"text-align: right;\">\n",
       "      <th></th>\n",
       "      <th>na_sales</th>\n",
       "      <th>eu_sales</th>\n",
       "      <th>jp_sales</th>\n",
       "      <th>other_sales</th>\n",
       "      <th>total_sales</th>\n",
       "    </tr>\n",
       "    <tr>\n",
       "      <th>rating</th>\n",
       "      <th></th>\n",
       "      <th></th>\n",
       "      <th></th>\n",
       "      <th></th>\n",
       "      <th></th>\n",
       "    </tr>\n",
       "  </thead>\n",
       "  <tbody>\n",
       "    <tr>\n",
       "      <th>tbd</th>\n",
       "      <td>1240.68</td>\n",
       "      <td>613.30</td>\n",
       "      <td>841.93</td>\n",
       "      <td>151.00</td>\n",
       "      <td>2846.91</td>\n",
       "    </tr>\n",
       "    <tr>\n",
       "      <th>E</th>\n",
       "      <td>1292.99</td>\n",
       "      <td>710.25</td>\n",
       "      <td>198.11</td>\n",
       "      <td>234.17</td>\n",
       "      <td>2435.52</td>\n",
       "    </tr>\n",
       "    <tr>\n",
       "      <th>T</th>\n",
       "      <td>759.75</td>\n",
       "      <td>427.03</td>\n",
       "      <td>151.40</td>\n",
       "      <td>155.17</td>\n",
       "      <td>1493.35</td>\n",
       "    </tr>\n",
       "    <tr>\n",
       "      <th>M</th>\n",
       "      <td>748.48</td>\n",
       "      <td>483.97</td>\n",
       "      <td>64.24</td>\n",
       "      <td>177.10</td>\n",
       "      <td>1473.79</td>\n",
       "    </tr>\n",
       "    <tr>\n",
       "      <th>E10+</th>\n",
       "      <td>353.32</td>\n",
       "      <td>188.52</td>\n",
       "      <td>40.20</td>\n",
       "      <td>73.56</td>\n",
       "      <td>655.60</td>\n",
       "    </tr>\n",
       "    <tr>\n",
       "      <th>K-A</th>\n",
       "      <td>2.56</td>\n",
       "      <td>0.27</td>\n",
       "      <td>1.46</td>\n",
       "      <td>0.03</td>\n",
       "      <td>4.32</td>\n",
       "    </tr>\n",
       "    <tr>\n",
       "      <th>AO</th>\n",
       "      <td>1.26</td>\n",
       "      <td>0.61</td>\n",
       "      <td>0.00</td>\n",
       "      <td>0.09</td>\n",
       "      <td>1.96</td>\n",
       "    </tr>\n",
       "    <tr>\n",
       "      <th>EC</th>\n",
       "      <td>1.53</td>\n",
       "      <td>0.11</td>\n",
       "      <td>0.00</td>\n",
       "      <td>0.11</td>\n",
       "      <td>1.75</td>\n",
       "    </tr>\n",
       "    <tr>\n",
       "      <th>RP</th>\n",
       "      <td>0.00</td>\n",
       "      <td>0.08</td>\n",
       "      <td>0.00</td>\n",
       "      <td>0.01</td>\n",
       "      <td>0.09</td>\n",
       "    </tr>\n",
       "  </tbody>\n",
       "</table>\n",
       "</div>"
      ],
      "text/plain": [
       "        na_sales  eu_sales  jp_sales  other_sales  total_sales\n",
       "rating                                                        \n",
       "tbd      1240.68    613.30    841.93       151.00      2846.91\n",
       "E        1292.99    710.25    198.11       234.17      2435.52\n",
       "T         759.75    427.03    151.40       155.17      1493.35\n",
       "M         748.48    483.97     64.24       177.10      1473.79\n",
       "E10+      353.32    188.52     40.20        73.56       655.60\n",
       "K-A         2.56      0.27      1.46         0.03         4.32\n",
       "AO          1.26      0.61      0.00         0.09         1.96\n",
       "EC          1.53      0.11      0.00         0.11         1.75\n",
       "RP          0.00      0.08      0.00         0.01         0.09"
      ]
     },
     "metadata": {},
     "output_type": "display_data"
    }
   ],
   "source": [
    "# Agrupando por columna 'rating' y sumando las ventas totales para cada región\n",
    "sales_by_rating = games.groupby('rating')[['na_sales','eu_sales','jp_sales','other_sales', 'total_sales']].sum().sort_values('total_sales', ascending=False)\n",
    "display(sales_by_rating)\n",
    "    # Eliminando los registros que están pendientes (tbd)\n",
    "sales_by_rating.drop('tbd', inplace=True)\n",
    "    # Obtiendo únicamente las ventas en las regiones\n",
    "region_sales_by_rating = sales_by_rating.drop('total_sales', axis=1)"
   ]
  },
  {
   "cell_type": "code",
   "execution_count": 37,
   "metadata": {},
   "outputs": [
    {
     "data": {
      "image/png": "[encoded data removed]",
      "text/plain": [
       "<Figure size 640x480 with 1 Axes>"
      ]
     },
     "metadata": {},
     "output_type": "display_data"
    }
   ],
   "source": [
    "# Graficando\n",
    "region_sales_by_rating.plot(kind='bar',\n",
    "                            title='Ventas por clasificación ESRB',\n",
    "                            xlabel='Rating',\n",
    "                            ylabel='Ventas (millones USD)',\n",
    "                            grid=True)\n",
    "\n",
    "plt.legend(title='REGIONES', labels=['Norte América', 'Europa', 'Japón', 'Resto del mundo'], fontsize='large')\n",
    "plt.show()"
   ]
  },
  {
   "cell_type": "markdown",
   "metadata": {},
   "source": [
    "- *Se observa el dominio de el mercado **norte americano**, siendo el que genera mas ganancias en todas las clasificaciones, seguido de **Europa** y por último **Japón**. Este patrón de comportamiento se repite en las 4 principales clasificaciones: E, T, M y E10+.*\n",
    "\n",
    "- *Considerando los datos de los juegos que ya tienen una clasificación asignada, observamos que las clasificaciones K-A, AO, EC y RP tienen ventas muy bajas y practicamente despresiables en todas las regiones.*\n",
    "\n",
    "- *Se debe considerar que estas conclusiones pueden cambiar al asignar una clasificación a los títulos que tienen pendiente asignación (tbd).*"
   ]
  },
  {
   "cell_type": "code",
   "execution_count": 38,
   "metadata": {},
   "outputs": [
    {
     "name": "stdout",
     "output_type": "stream",
     "text": [
      "Juegos sin clasificar (tbd): 6764\n"
     ]
    },
    {
     "data": {
      "text/html": [
       "<div>\n",
       "<style scoped>\n",
       "    .dataframe tbody tr th:only-of-type {\n",
       "        vertical-align: middle;\n",
       "    }\n",
       "\n",
       "    .dataframe tbody tr th {\n",
       "        vertical-align: top;\n",
       "    }\n",
       "\n",
       "    .dataframe thead th {\n",
       "        text-align: right;\n",
       "    }\n",
       "</style>\n",
       "<table border=\"1\" class=\"dataframe\">\n",
       "  <thead>\n",
       "    <tr style=\"text-align: right;\">\n",
       "      <th></th>\n",
       "      <th>na_sales</th>\n",
       "      <th>eu_sales</th>\n",
       "      <th>jp_sales</th>\n",
       "      <th>other_sales</th>\n",
       "      <th>total_sales</th>\n",
       "    </tr>\n",
       "    <tr>\n",
       "      <th>rating</th>\n",
       "      <th></th>\n",
       "      <th></th>\n",
       "      <th></th>\n",
       "      <th></th>\n",
       "      <th></th>\n",
       "    </tr>\n",
       "  </thead>\n",
       "  <tbody>\n",
       "    <tr>\n",
       "      <th>tbd</th>\n",
       "      <td>1240.68</td>\n",
       "      <td>613.3</td>\n",
       "      <td>841.93</td>\n",
       "      <td>151.0</td>\n",
       "      <td>2846.91</td>\n",
       "    </tr>\n",
       "  </tbody>\n",
       "</table>\n",
       "</div>"
      ],
      "text/plain": [
       "        na_sales  eu_sales  jp_sales  other_sales  total_sales\n",
       "rating                                                        \n",
       "tbd      1240.68     613.3    841.93        151.0      2846.91"
      ]
     },
     "execution_count": 38,
     "metadata": {},
     "output_type": "execute_result"
    }
   ],
   "source": [
    "# Filtrando dataset para mostrar sólo aquellos jugos que no tienen un rating determinado\n",
    "tbd_rating = games.query('rating == \"tbd\"')\n",
    "print('Juegos sin clasificar (tbd):', len(tbd_rating))\n",
    "# Calculando las ventas totales de estos juegos por región\n",
    "tbd_rating_sales = tbd_rating.groupby('rating')[['na_sales','eu_sales','jp_sales','other_sales', 'total_sales']].sum()\n",
    "tbd_rating_sales"
   ]
  },
  {
   "cell_type": "markdown",
   "metadata": {},
   "source": [
    "- *Llama la atención que hay un importante número de juegos sin clasificación (6,764). Con un número de ventas totales de $2,846.91 mdd.*\n",
    "\n",
    "- *Llama la atención que **Japón** es la segunda mayor aportadora de ventas en juegos sin clasificación, superando a Europa y relativamente cerca de Norte América, que normalmente lo supera por mucho más, alrededor de 400%.*\n",
    "\n",
    "- *Es posible que las clasificaciones faltantes correspondan a K-A, AO, EC y RP.*"
   ]
  },
  {
   "cell_type": "markdown",
   "metadata": {},
   "source": [
    "## **Pruebas de Hipótesis**"
   ]
  },
  {
   "cell_type": "markdown",
   "metadata": {},
   "source": [
    "### **Las calificaciones promedio de los usuarios para las plataformas Xbox One y PC son las mismas.**"
   ]
  },
  {
   "cell_type": "code",
   "execution_count": 39,
   "metadata": {},
   "outputs": [
    {
     "data": {
      "text/plain": [
       "platform\n",
       "XOne    6.761538\n",
       "PC      7.161704\n",
       "Name: user_score, dtype: Float64"
      ]
     },
     "metadata": {},
     "output_type": "display_data"
    }
   ],
   "source": [
    "platform_user_score_mean = games.groupby('platform')['user_score'].mean().sort_values(ascending=False)\n",
    "\n",
    "display(platform_user_score_mean[['XOne', 'PC']])"
   ]
  },
  {
   "cell_type": "markdown",
   "metadata": {},
   "source": [
    "**Hipótesis nula:**\n",
    "\n",
    "- *Las calificaciones promedio de los usuarios para las plataformas Xbox One y PC son las mismas.*\n",
    "\n",
    "**Hipótesis alternativa:**\n",
    "\n",
    "- *Las calificaciones promedio de los usuarios para las plataformas Xbox One y PC son diferentes.*"
   ]
  },
  {
   "cell_type": "code",
   "execution_count": 40,
   "metadata": {},
   "outputs": [
    {
     "name": "stdout",
     "output_type": "stream",
     "text": [
      "p_value: 1.45285063989343e-05.\n",
      "RESULTADO: Se rechaza la hipótesis nula.\n"
     ]
    }
   ],
   "source": [
    "# Obteniendo poblaciones a evaluar\n",
    "xone_user_scores = games.query('platform == \"XOne\"')['user_score']\n",
    "pc_user_scores = games.query('platform == \"PC\"')['user_score']\n",
    "# Estableciendo valor alpha\n",
    "alpha = 0.05\n",
    "# Realizando ttest_ind()\n",
    "resultado = stats.ttest_ind(xone_user_scores, pc_user_scores, equal_var=False)\n",
    "# Valor p\n",
    "print(f'p_value: {resultado.pvalue}.')\n",
    "# Imprimiendo resultado de la prueba\n",
    "if resultado.pvalue < alpha:\n",
    "    print('RESULTADO: Se rechaza la hipótesis nula.')\n",
    "else:\n",
    "    print('RESULTADO: No se puede rechazar la hipótesis nula.')"
   ]
  },
  {
   "cell_type": "markdown",
   "metadata": {},
   "source": [
    "### **Las calificaciones promedio de los usuarios para los géneros de Acción y Deportes son diferentes.**"
   ]
  },
  {
   "cell_type": "markdown",
   "metadata": {},
   "source": [
    "**Hipótesis nula:**\n",
    "\n",
    "- *Las calificaciones promedio de los usuarios para los géneros de Acción y Deportes son las mismas.*\n",
    "\n",
    "**Hipótesis alternativa:**\n",
    "\n",
    "- *Las calificaciones promedio de los usuarios para los géneros de Acción y Deportes son diferentes.*"
   ]
  },
  {
   "cell_type": "code",
   "execution_count": 41,
   "metadata": {},
   "outputs": [
    {
     "name": "stdout",
     "output_type": "stream",
     "text": [
      "p_value: 0.5383281050121103.\n",
      "RESULTADO: No se puede rechazar la hipótesis nula.\n"
     ]
    }
   ],
   "source": [
    "# Obteniendo poblaciones a evaluar\n",
    "action_user_scores = games.query('genre == \"Action\"')['user_score']\n",
    "sports_user_scores = games.query('genre == \"Sports\"')['user_score']\n",
    "# Estableciendo valor alpha\n",
    "alpha = 0.05\n",
    "# Realizando ttest_ind()\n",
    "resultado = stats.ttest_ind(action_user_scores, sports_user_scores, equal_var=False)\n",
    "# Valor p\n",
    "print(f'p_value: {resultado.pvalue}.')\n",
    "# Imprimiendo resultado de la prueba\n",
    "if resultado.pvalue < alpha:\n",
    "    print('RESULTADO: Se rechaza la hipótesis nula.')\n",
    "else:\n",
    "    print('RESULTADO: No se puede rechazar la hipótesis nula.')"
   ]
  },
  {
   "cell_type": "markdown",
   "metadata": {},
   "source": [
    "### **Explicación:**\n",
    "- *La **hipótesis nula** es aquella que busca comprobar que **no hay una diferencia significativa** entre los promedios de dos poblaciones.*\n",
    "- *La **hipótesis alternativa** busca comprobar que **si hay diferencia significativa** entre los promedios de dos poblaciones. Esta diferencia puede ser: mayor que (>), menor que(<) o como en este caso, simplemente diferente (!=).*\n",
    "\n",
    "- *Para realizar las pruebas de hipótesis se utilizó el método de `ttest_ind` ya que se trata de una prueba **población vs población**. Además, la evaluación de el `p_value` obtenido se realiza directamente debido a que es una prueba de **dos colas**.*"
   ]
  },
  {
   "cell_type": "markdown",
   "metadata": {},
   "source": [
    "## **Conclusión General**"
   ]
  },
  {
   "cell_type": "markdown",
   "metadata": {},
   "source": [
    "- *La industria de los videojuegos ha experimentado un crecimiento acelerado desde mediados de los años 90, alcanzando su punto máximo en cuanto a lanzamientos entre 2005 y 2011. Desde entonces, el ritmo de lanzamientos ha disminuido, aunque aún se observan plataformas con un desempeño significativo, como ***PlayStation 4***, ***Xbox One***. En el caso de ***PC***, destaca por su permanencia a lo largo de tres décadas.*\n",
    "\n",
    "- *En términos de ventas, las plataformas históricamente líderes son ***PlayStation2***, ***Xbox 360***, **PlayStation3**, ***Wii***, ***DS*** y **PlayStation**. Los análisis indican que las consolas alcanzan su pico de ventas en aproximadamente cuatro años, después de esto, sus ventas caen gradualmente durante 4 años mas hasta desaparecer.*\n",
    "\n",
    "- *El mercado más fuerte es ***Norteamérica***, tanto en volumen de ventas como en participación proporcional. Le siguen Europa y Japón, donde se observan diferencias en las preferencias por géneros: mientras que en NA, EU y otras regiones dominan los géneros Action, Sports y Shooter, en Japón el Role-Playing ocupa el primer lugar. Los géneros más rentables a nivel global son Action, Sports, Shooter, Role-Playing y Platform.*\n",
    "\n",
    "- *Mientras que las calificaciones promedio de los usuarios para las plataformas ***Xbox One*** y ***PC*** son significativamente diferentes, las calificaciones promedio de los usuarios para los géneros de ***Acción*** y ***Deportes*** son estadísticamente similares. Esto sugiere que la experiencia del usuario puede depender más de la plataforma que del género en sí.*"
   ]
  }
 ],
 "metadata": {
  "kernelspec": {
   "display_name": "Python 3",
   "language": "python",
   "name": "python3"
  },
  "language_info": {
   "codemirror_mode": {
    "name": "ipython",
    "version": 3
   },
   "file_extension": ".py",
   "mimetype": "text/x-python",
   "name": "python",
   "nbconvert_exporter": "python",
   "pygments_lexer": "ipython3",
   "version": "3.13.3"
  }
 },
 "nbformat": 4,
 "nbformat_minor": 2
}
